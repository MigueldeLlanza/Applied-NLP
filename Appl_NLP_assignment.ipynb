{
  "nbformat": 4,
  "nbformat_minor": 0,
  "metadata": {
    "colab": {
      "name": "ANLPassignment_MigueldeLlanza.ipynb",
      "provenance": [],
      "collapsed_sections": []
    },
    "kernelspec": {
      "display_name": "Python 3",
      "language": "python",
      "name": "python3"
    },
    "language_info": {
      "codemirror_mode": {
        "name": "ipython",
        "version": 3
      },
      "file_extension": ".py",
      "mimetype": "text/x-python",
      "name": "python",
      "nbconvert_exporter": "python",
      "pygments_lexer": "ipython3",
      "version": "3.7.4"
    }
  },
  "cells": [
    {
      "cell_type": "markdown",
      "metadata": {
        "id": "23Z3pzV0ceh5"
      },
      "source": [
        "# ANLP Assignment (Autumn 2020)\n",
        "\n",
        "For assessment, you are expected to complete and submit this notebook file. When answers require code, you may import and use library functions (unless explicitly told otherwise). All of your own code should be included in the notebook rather than imported from elsewhere. Written answers should also be included in the notebook. You should insert as many extra cells as you want and change the type between code and markdown as appropriate.\n",
        "\n",
        "In order to avoid misconduct, you should not talk about the assignment questions with your peers. If you are not sure what a question is asking you to do or have any other questions, please ask me or one of the Teaching Assistants.\n",
        "\n",
        "Marking guidelines are provided as a separate document.\n",
        "\n",
        "The first few cells contain code to set-up the assignment and bring in some data. In order to provide unique datasets for analysis by different students, you must enter your candidate number in the following cell. Otherwise do not change the code in these cells."
      ]
    },
    {
      "cell_type": "code",
      "metadata": {
        "id": "P5FRYFgGcdYH"
      },
      "source": [
        "candidateno=234717 #this MUST be updated to your candidate number so that you get a unique data sample"
      ],
      "execution_count": null,
      "outputs": []
    },
    {
      "cell_type": "code",
      "metadata": {
        "id": "RWe1DzridJTn",
        "colab": {
          "base_uri": "https://localhost:8080/"
        },
        "outputId": "3d173049-1f02-4a7a-d89a-c18088fb276b"
      },
      "source": [
        "#set up drives for resources.  Change the path as necessary\n",
        "\n",
        "from google.colab import drive\n",
        "#mount google drive\n",
        "drive.mount('/content/drive/')\n",
        "import sys\n",
        "sys.path.append('/content/drive/My Drive/Sussex AI/Applied NLP/1st Assignment/resources/')\n"
      ],
      "execution_count": null,
      "outputs": [
        {
          "output_type": "stream",
          "text": [
            "Mounted at /content/drive/\n"
          ],
          "name": "stdout"
        }
      ]
    },
    {
      "cell_type": "code",
      "metadata": {
        "id": "udnAzg7gdMmw",
        "colab": {
          "base_uri": "https://localhost:8080/"
        },
        "outputId": "4ef8621d-0d5d-404f-e04e-96f9899518f1"
      },
      "source": [
        "#do not change the code in this cell\n",
        "#preliminary imports\n",
        "\n",
        "import re\n",
        "import random\n",
        "from random import sample\n",
        "import math\n",
        "import numpy as np\n",
        "import pandas as pd\n",
        "import matplotlib.pyplot as plt\n",
        "from itertools import zip_longest\n",
        "from collections import defaultdict\n",
        "from itertools import product\n",
        "import operator\n",
        "from scipy.stats import spearmanr\n",
        "\n",
        "import nltk\n",
        "nltk.download('punkt')\n",
        "nltk.download('stopwords')\n",
        "nltk.download('wordnet')\n",
        "nltk.download('wordnet_ic')\n",
        "nltk.download('universal_tagset')\n",
        "from nltk.classify.api import ClassifierI\n",
        "from nltk.tokenize import word_tokenize\n",
        "from nltk.corpus import stopwords\n",
        "from nltk.stem.porter import PorterStemmer\n",
        "from nltk.stem import WordNetLemmatizer\n",
        "from nltk.corpus import wordnet as wn\n",
        "from nltk.corpus import wordnet_ic as wn_ic\n",
        "from nltk import FreqDist\n",
        "from nltk import pos_tag\n",
        "from nltk import NaiveBayesClassifier\n",
        "brown_ic = wn_ic.ic(\"ic-brown.dat\")\n",
        "\n",
        "from sussex_nltk.corpus_readers import AmazonReviewCorpusReader\n",
        "from sussex_nltk.corpus_readers import ReutersCorpusReader"
      ],
      "execution_count": null,
      "outputs": [
        {
          "output_type": "stream",
          "text": [
            "[nltk_data] Downloading package punkt to /root/nltk_data...\n",
            "[nltk_data]   Package punkt is already up-to-date!\n",
            "[nltk_data] Downloading package stopwords to /root/nltk_data...\n",
            "[nltk_data]   Package stopwords is already up-to-date!\n",
            "[nltk_data] Downloading package wordnet to /root/nltk_data...\n",
            "[nltk_data]   Package wordnet is already up-to-date!\n",
            "[nltk_data] Downloading package wordnet_ic to /root/nltk_data...\n",
            "[nltk_data]   Package wordnet_ic is already up-to-date!\n",
            "[nltk_data] Downloading package universal_tagset to /root/nltk_data...\n",
            "[nltk_data]   Package universal_tagset is already up-to-date!\n"
          ],
          "name": "stdout"
        }
      ]
    },
    {
      "cell_type": "markdown",
      "metadata": {
        "id": "2cpSNtF3BFYK"
      },
      "source": [
        "# Question 1: Books vs DVDs\n",
        "\n",
        "In this question, you will be investigating NLP methods for distinguishing reviews written about books from reviews written about DVDs."
      ]
    },
    {
      "cell_type": "code",
      "metadata": {
        "id": "BHBkzAccCVaZ"
      },
      "source": [
        "#do not change the code in this cell\n",
        "def split_data(data, ratio=0.7): # when the second argument is not given, it defaults to 0.7\n",
        "    \"\"\"\n",
        "    Given corpus generator and ratio:\n",
        "     - partitions the corpus into training data and test data, where the proportion in train is ratio,\n",
        "\n",
        "    :param data: A corpus generator.\n",
        "    :param ratio: The proportion of training documents (default 0.7)\n",
        "    :return: a pair (tuple) of lists where the first element of the \n",
        "            pair is a list of the training data and the second is a list of the test data.\n",
        "    \"\"\"\n",
        "    \n",
        "    data = list(data)  \n",
        "    n = len(data)  \n",
        "    train_indices = random.sample(range(n), int(n * ratio))          \n",
        "    test_indices = list(set(range(n)) - set(train_indices))    \n",
        "    train = [data[i] for i in train_indices]           \n",
        "    test = [data[i] for i in test_indices]             \n",
        "    return (train, test)                       \n",
        " \n",
        "\n",
        "def feature_extract(review):\n",
        "    \"\"\"\n",
        "    Generate a feature representation for a review\n",
        "    :param review: AmazonReview object\n",
        "    :return: dictionary of Boolean features\n",
        "    \"\"\"\n",
        "    return {word:True for word in review.words()}\n",
        "\n",
        "def get_training_test_data(categories=('book','dvd'),ratio=0.7,seed=candidateno):\n",
        "    \"\"\"\n",
        "    Get training and test data for a given pair of categories and ratio, pre-formatted for use with NB classifier\n",
        "    :param category: pair of categories of review corpus, two from [\"kitchen, \"dvd, \"book\", \"electronics\"]\n",
        "    :param ratio: proportion of data to use as training data\n",
        "    :return: pair of lists \n",
        "    \"\"\"\n",
        "    random.seed(candidateno)\n",
        "\n",
        "    train_data=[]\n",
        "    test_data=[]\n",
        "    for category in categories:\n",
        "      reader=AmazonReviewCorpusReader().category(category)    \n",
        "      train, test = split_data(reader.documents(),ratio=ratio)\n",
        "   \n",
        "      train_data+=[(feature_extract(review),category)for review in train]\n",
        "      test_data+=[(feature_extract(review),category)for review in test]\n",
        "    random.shuffle(train_data)\n",
        "    random.shuffle(test_data)\n",
        "\n",
        "    return train_data,test_data"
      ],
      "execution_count": null,
      "outputs": []
    },
    {
      "cell_type": "markdown",
      "metadata": {
        "id": "1N3LWwBYICPP"
      },
      "source": [
        "When you have run the cell below, your unique training and testing samples will be stored in `training_data` and `testing_data`"
      ]
    },
    {
      "cell_type": "code",
      "metadata": {
        "id": "HJLegkdPFUJA",
        "colab": {
          "base_uri": "https://localhost:8080/"
        },
        "outputId": "9c221877-a901-4d62-ff29-066e5e60ff7c"
      },
      "source": [
        "#do not change the code in this cell\n",
        "training_data,testing_data=get_training_test_data()\n",
        "print(\"The amount of training data is {}\".format(len(training_data)))\n",
        "print(\"The amount of testing data is {}\".format(len(testing_data)))\n",
        "print(\"The representation of a single data item is below\")\n",
        "print(training_data[0])"
      ],
      "execution_count": null,
      "outputs": [
        {
          "output_type": "stream",
          "text": [
            "The amount of training data is 6526\n",
            "The amount of testing data is 2799\n",
            "The representation of a single data item is below\n",
            "({'My': True, 'favorite': True, 'Vince': True, 'Flynn': True, 'book': True, 'is': True, 'still': True, '``': True, 'Term': True, 'Limits': True, ',': True, 'but': True, 'I': True, 'really': True, 'enjoyed': True, 'Act': True, 'of': True, 'Treason': True, 'and': True, 'am': True, 'anxiously': True, 'awaiting': True, 'Mr.': True, \"'s\": True, 'next': True, 'Mitch': True, 'Rapp': True, 'novel': True, '.': True, 'Highly': True, 'recommended': True}, 'book')\n"
          ],
          "name": "stdout"
        }
      ]
    },
    {
      "cell_type": "markdown",
      "metadata": {
        "id": "5f6h0ON9I4NT"
      },
      "source": [
        "a) Use your training data to find\n",
        "i) the top 20 words which occur more frequently in book reviews than in dvd reviews\n",
        "ii) the top 20 words which occur more frequently in dvd reviews than book reviews\n",
        "Discuss what pre-processing techniques you have applied (or not applied) in answering this question, and why. [10 marks]"
      ]
    },
    {
      "cell_type": "code",
      "metadata": {
        "id": "cwektulSDCsD"
      },
      "source": [
        "def normalise(tokenlist):\n",
        "  \"\"\"\n",
        "  normalise data\n",
        "  \"\"\"\n",
        "  tokenlist=[str(token) if type(token) == int else token for token in tokenlist]\n",
        "  tokenlist=[\"NUM\" if token.isdigit() else token for token in tokenlist]\n",
        "  tokenlist=[\"Nth\" if (token.endswith((\"nd\",\"st\",\"th\")) and token[:-2].isdigit()) else token for token in tokenlist]\n",
        "  tokenlist=[\"NUM\" if re.search(\"^[+-]?[0-9]+\\.[0-9]\",token) else token for token in tokenlist]\n",
        "  tokenlist=[token.lower() for token in tokenlist]\n",
        "  return tokenlist\n",
        "\n",
        "def filter_stopwords(tokenlist):\n",
        "  \"\"\"\n",
        "  filter stopwords\n",
        "  \"\"\"\n",
        "  tokenlist = [token for token in tokenlist if token not in stopwords.words('english') and token.isalpha()]\n",
        "  return tokenlist\n",
        "\n",
        "def get_wordnet_pos(treebank_tag):\n",
        "  \"\"\"\n",
        "  simplify tags\n",
        "  \"\"\"\n",
        "  if treebank_tag.startswith('A'):\n",
        "      return 'a'\n",
        "  elif treebank_tag.startswith('V'):\n",
        "      return 'v'\n",
        "  elif treebank_tag.startswith('N'):\n",
        "      return 'n'\n",
        "  elif treebank_tag.startswith('R'):\n",
        "      return 'r'\n",
        "  else:\n",
        "      return 'n'\n",
        "\n",
        "def pre_process(data):\n",
        "  \"\"\"\n",
        "  Pre-process the given data\n",
        "  \"\"\"\n",
        "  # apply lower casing, eliminate stopwords and numbers, and lemmatize words\n",
        "  pre_process_docs = [(pos_tag(filter_stopwords(normalise(list(doc.keys()))), tagset='universal_tagset'), label) for (doc,label) in data]\n",
        "\n",
        "  wnl = WordNetLemmatizer()\n",
        "  pre_process_docs = [({(wnl.lemmatize(word, pos=get_wordnet_pos(tag))):True for (word,tag) in doc}, label) for doc,label in pre_process_docs]\n",
        "\n",
        "  return pre_process_docs "
      ],
      "execution_count": null,
      "outputs": []
    },
    {
      "cell_type": "markdown",
      "metadata": {
        "id": "4If7eXohAWAo"
      },
      "source": [
        "**Pre-processing applied**\n",
        "\n",
        "I have applied several pre-processing techniques to both the training and testing data. First, I have normalized the data in order to convert every cardinal and ordinal numbers to either the string “NUM” or “Nth”. The reason to do that is that usually it is not important to know the value of a number but just that it is a number. After that, I have applied lower casing to all the tokens in order to avoid having several token types for the same word (e.g., ‘the’ in the middle of a sentence and ‘The’ in the beginning. Both type tokens should be considered as being instances of the same type).  \n",
        "\n",
        "Once normalization has been done, I proceed to remove the stopwords. When generating the word list for each class of the calssifier, we are interested in those words that are relevant in each class. Since stopwords are usually among the most frequent words in a corpus, they are very likely to be considered when creating a frequency list for each class. Thus, I have removed the in order to only obtain the most frequent words for each class. \n",
        "\n",
        "Since I have used lemmatization and it is necessary to specify a part-of-speech tag as a parameter (otherwise it will treat all words as nouns, which is the default POS tag), I have used the NLTK POS tagger to obtain the 'universal' tag for each word. However, the NLTK lemmatizer only accpets few basic POS tags. Due to this, I have convert the 'universal' tags to simple ones. After this, I have lemmatized every word. I used lemmatization over stemming because with stemming, several words that can probably be considered of the same type appeared in the word list. Thus, although it is computationally more expensive (e.g., computing tags and simplifying them afterwards), I consider that better word lists are obtained. "
      ]
    },
    {
      "cell_type": "code",
      "metadata": {
        "id": "JHi0BYHuaRb0"
      },
      "source": [
        "# pre-process training and test data\n",
        "pre_proc_train = pre_process(training_data)\n",
        "pre_proc_test = pre_process(testing_data)"
      ],
      "execution_count": null,
      "outputs": []
    },
    {
      "cell_type": "code",
      "metadata": {
        "id": "L4NUjU9_TCrZ"
      },
      "source": [
        "def get_class(train_data):\n",
        "  \"\"\"\n",
        "  get the class labels of the training data\n",
        "  \"\"\"\n",
        "  labels = []\n",
        "  for doc,label in train_data:\n",
        "    if label not in labels:\n",
        "      labels.append(label)\n",
        "\n",
        "  return labels"
      ],
      "execution_count": null,
      "outputs": []
    },
    {
      "cell_type": "code",
      "metadata": {
        "colab": {
          "base_uri": "https://localhost:8080/"
        },
        "id": "_irA_1Kdsjzc",
        "outputId": "d01f0529-f15a-4331-b063-8df805578144"
      },
      "source": [
        "# get class labels\n",
        "labels = get_class(training_data)\n",
        "labels"
      ],
      "execution_count": null,
      "outputs": [
        {
          "output_type": "execute_result",
          "data": {
            "text/plain": [
              "['book', 'dvd']"
            ]
          },
          "metadata": {
            "tags": []
          },
          "execution_count": 228
        }
      ]
    },
    {
      "cell_type": "code",
      "metadata": {
        "id": "yJ97lpPIr7iy"
      },
      "source": [
        "def check_balance_classes(train_data):\n",
        "  \"\"\"\n",
        "  check how many documents in the training data belong to each class\n",
        "  to see whether the training data is balanced or unbalanced\n",
        "  \"\"\"\n",
        "  c1, c2 = get_class(train_data)\n",
        "  class_1 = len([label for doc,label in training_data if label == c1])\n",
        "  class_2 = len([label for doc,label in training_data if label == c2])\n",
        "\n",
        "  return (c1, class_1), (c2, class_2)"
      ],
      "execution_count": null,
      "outputs": []
    },
    {
      "cell_type": "code",
      "metadata": {
        "colab": {
          "base_uri": "https://localhost:8080/"
        },
        "id": "mYbof4KCaUXM",
        "outputId": "1e59b003-ffcd-49aa-e3f4-c8b07b7504a7"
      },
      "source": [
        "# check class balance\n",
        "balance = check_balance_classes(training_data)\n",
        "balance"
      ],
      "execution_count": null,
      "outputs": [
        {
          "output_type": "execute_result",
          "data": {
            "text/plain": [
              "(('book', 2683), ('dvd', 3843))"
            ]
          },
          "metadata": {
            "tags": []
          },
          "execution_count": 230
        }
      ]
    },
    {
      "cell_type": "code",
      "metadata": {
        "id": "xOCCcZDOKirm"
      },
      "source": [
        "def more_frequent(train_data, k):\n",
        "  \"\"\"\n",
        "  given the training data, and a top k number of most frequent words, returns\n",
        "  two lists:\n",
        "  1) k most frequent words in class 1 of the training data than class 2\n",
        "  2) k most frequent words in class 2 of the training data than class 1\n",
        "  \"\"\"\n",
        "  train_freq = {}\n",
        "  # for each review in the training data, create a dictionary of word frequencies\n",
        "  # that will be the 'value' of the 'train_freq' dictionary with the review label\n",
        "  # as key of the nested dictionary (e.g., dict = {label:{word1:freq1, word2:freq2}})\n",
        "  for (doc,label) in train_data:\n",
        "      doc_freq = train_freq.get(label,{})\n",
        "      for word in doc.keys():\n",
        "          doc_freq[word] = doc_freq.get(word,0) + 1\n",
        "    \n",
        "      train_freq[label] = doc_freq\n",
        "\n",
        "  # get class labels\n",
        "  label1, label2 = list(train_freq.keys())\n",
        "  # compute the frequency difference between words in each class\n",
        "  class_1 = [(word,freq - train_freq[label2].get(word, 0)) for word,freq in train_freq[label1].items()]\n",
        "  class_2 = [(word,freq - train_freq[label1].get(word, 0)) for word,freq in train_freq[label2].items()]\n",
        "  # descending sort of the lists of tuples above by the second value, which is the frequency\n",
        "  ks_class_l = sorted(class_1,key=lambda pair:pair[1], reverse=True)[:k]\n",
        "  ks_class_2 = sorted(class_2,key=lambda pair:pair[1], reverse=True)[:k]\n",
        "\n",
        "  return (label1, ks_class_l), (label2, ks_class_2)"
      ],
      "execution_count": null,
      "outputs": []
    },
    {
      "cell_type": "code",
      "metadata": {
        "colab": {
          "base_uri": "https://localhost:8080/",
          "height": 647
        },
        "id": "bKqZ6-0inNPZ",
        "outputId": "53750707-a8c9-4811-bed9-a85d6f6e8ad9"
      },
      "source": [
        "# Obtain the 20th more frequent terms in each class ('book' and 'dvd')\n",
        "result = more_frequent(pre_proc_train, 20)\n",
        "# Store labels of each class and the each list of k more frequent terms\n",
        "labs = [labels[0], 'frequency', labels[1], 'frequency']\n",
        "list_freqs = [result[ind][1] for ind in range(len(result))]\n",
        "# unify in a single tuple every pair of tuples from each list\n",
        "values = [x + (y,z) for x, (y, z) in zip(list_freqs[0], list_freqs[1])]\n",
        "# Show in a pandas dataframe the k more frequent terms in each class\n",
        "df = pd.DataFrame(values, columns=labs)\n",
        "display(df) "
      ],
      "execution_count": null,
      "outputs": [
        {
          "output_type": "display_data",
          "data": {
            "text/html": [
              "<div>\n",
              "<style scoped>\n",
              "    .dataframe tbody tr th:only-of-type {\n",
              "        vertical-align: middle;\n",
              "    }\n",
              "\n",
              "    .dataframe tbody tr th {\n",
              "        vertical-align: top;\n",
              "    }\n",
              "\n",
              "    .dataframe thead th {\n",
              "        text-align: right;\n",
              "    }\n",
              "</style>\n",
              "<table border=\"1\" class=\"dataframe\">\n",
              "  <thead>\n",
              "    <tr style=\"text-align: right;\">\n",
              "      <th></th>\n",
              "      <th>book</th>\n",
              "      <th>frequency</th>\n",
              "      <th>dvd</th>\n",
              "      <th>frequency</th>\n",
              "    </tr>\n",
              "  </thead>\n",
              "  <tbody>\n",
              "    <tr>\n",
              "      <th>0</th>\n",
              "      <td>book</td>\n",
              "      <td>1939</td>\n",
              "      <td>movie</td>\n",
              "      <td>1837</td>\n",
              "    </tr>\n",
              "    <tr>\n",
              "      <th>1</th>\n",
              "      <td>read</td>\n",
              "      <td>961</td>\n",
              "      <td>film</td>\n",
              "      <td>1312</td>\n",
              "    </tr>\n",
              "    <tr>\n",
              "      <th>2</th>\n",
              "      <td>author</td>\n",
              "      <td>481</td>\n",
              "      <td>dvd</td>\n",
              "      <td>1031</td>\n",
              "    </tr>\n",
              "    <tr>\n",
              "      <th>3</th>\n",
              "      <td>reading</td>\n",
              "      <td>466</td>\n",
              "      <td>watch</td>\n",
              "      <td>713</td>\n",
              "    </tr>\n",
              "    <tr>\n",
              "      <th>4</th>\n",
              "      <td>reader</td>\n",
              "      <td>351</td>\n",
              "      <td>num</td>\n",
              "      <td>696</td>\n",
              "    </tr>\n",
              "    <tr>\n",
              "      <th>5</th>\n",
              "      <td>page</td>\n",
              "      <td>308</td>\n",
              "      <td>one</td>\n",
              "      <td>574</td>\n",
              "    </tr>\n",
              "    <tr>\n",
              "      <th>6</th>\n",
              "      <td>writing</td>\n",
              "      <td>225</td>\n",
              "      <td>see</td>\n",
              "      <td>554</td>\n",
              "    </tr>\n",
              "    <tr>\n",
              "      <th>7</th>\n",
              "      <td>written</td>\n",
              "      <td>221</td>\n",
              "      <td>scene</td>\n",
              "      <td>532</td>\n",
              "    </tr>\n",
              "    <tr>\n",
              "      <th>8</th>\n",
              "      <td>chapter</td>\n",
              "      <td>181</td>\n",
              "      <td>great</td>\n",
              "      <td>531</td>\n",
              "    </tr>\n",
              "    <tr>\n",
              "      <th>9</th>\n",
              "      <td>novel</td>\n",
              "      <td>178</td>\n",
              "      <td>like</td>\n",
              "      <td>515</td>\n",
              "    </tr>\n",
              "    <tr>\n",
              "      <th>10</th>\n",
              "      <td>information</td>\n",
              "      <td>125</td>\n",
              "      <td>show</td>\n",
              "      <td>452</td>\n",
              "    </tr>\n",
              "    <tr>\n",
              "      <th>11</th>\n",
              "      <td>example</td>\n",
              "      <td>93</td>\n",
              "      <td>get</td>\n",
              "      <td>449</td>\n",
              "    </tr>\n",
              "    <tr>\n",
              "      <th>12</th>\n",
              "      <td>description</td>\n",
              "      <td>87</td>\n",
              "      <td>good</td>\n",
              "      <td>448</td>\n",
              "    </tr>\n",
              "    <tr>\n",
              "      <th>13</th>\n",
              "      <td>history</td>\n",
              "      <td>86</td>\n",
              "      <td>love</td>\n",
              "      <td>447</td>\n",
              "    </tr>\n",
              "    <tr>\n",
              "      <th>14</th>\n",
              "      <td>found</td>\n",
              "      <td>83</td>\n",
              "      <td>seen</td>\n",
              "      <td>423</td>\n",
              "    </tr>\n",
              "    <tr>\n",
              "      <th>15</th>\n",
              "      <td>topic</td>\n",
              "      <td>80</td>\n",
              "      <td>watching</td>\n",
              "      <td>417</td>\n",
              "    </tr>\n",
              "    <tr>\n",
              "      <th>16</th>\n",
              "      <td>published</td>\n",
              "      <td>78</td>\n",
              "      <td>actor</td>\n",
              "      <td>397</td>\n",
              "    </tr>\n",
              "    <tr>\n",
              "      <th>17</th>\n",
              "      <td>text</td>\n",
              "      <td>75</td>\n",
              "      <td>time</td>\n",
              "      <td>386</td>\n",
              "    </tr>\n",
              "    <tr>\n",
              "      <th>18</th>\n",
              "      <td>reference</td>\n",
              "      <td>74</td>\n",
              "      <td>really</td>\n",
              "      <td>369</td>\n",
              "    </tr>\n",
              "    <tr>\n",
              "      <th>19</th>\n",
              "      <td>research</td>\n",
              "      <td>72</td>\n",
              "      <td>best</td>\n",
              "      <td>352</td>\n",
              "    </tr>\n",
              "  </tbody>\n",
              "</table>\n",
              "</div>"
            ],
            "text/plain": [
              "           book  frequency       dvd  frequency\n",
              "0          book       1939     movie       1837\n",
              "1          read        961      film       1312\n",
              "2        author        481       dvd       1031\n",
              "3       reading        466     watch        713\n",
              "4        reader        351       num        696\n",
              "5          page        308       one        574\n",
              "6       writing        225       see        554\n",
              "7       written        221     scene        532\n",
              "8       chapter        181     great        531\n",
              "9         novel        178      like        515\n",
              "10  information        125      show        452\n",
              "11      example         93       get        449\n",
              "12  description         87      good        448\n",
              "13      history         86      love        447\n",
              "14        found         83      seen        423\n",
              "15        topic         80  watching        417\n",
              "16    published         78     actor        397\n",
              "17         text         75      time        386\n",
              "18    reference         74    really        369\n",
              "19     research         72      best        352"
            ]
          },
          "metadata": {
            "tags": []
          }
        }
      ]
    },
    {
      "cell_type": "markdown",
      "metadata": {
        "id": "TApOQE6vND20"
      },
      "source": [
        "b) Design, build and test a word list classifier to classify reviews as being from the book domain or from the dvd domain.  Make sure you discuss i) how you decide the lengths and contents of the word lists and ii) accuracy, precision and recall of your final classifier.[15 marks]"
      ]
    },
    {
      "cell_type": "code",
      "metadata": {
        "id": "OyHbdCc97yYD"
      },
      "source": [
        "class SimpleClassifier(ClassifierI): \n",
        "  \"\"\"\n",
        "  Class for a binary classifier that classifies based on words lists\n",
        "  \"\"\"\n",
        "  def __init__(self):\n",
        "    \"\"\"\n",
        "    set labels\n",
        "    \"\"\"\n",
        "    self.labels = ['book', 'dvd']\n",
        "\n",
        "  def classify(self, doc): \n",
        "    \"\"\"\n",
        "    given a document, it is classified as either belonging to one of the two\n",
        "    classes\n",
        "    \"\"\"\n",
        "    score = 0\n",
        "    for w in doc:\n",
        "      if w in self.class_1_k_frequent:\n",
        "        score += 1\n",
        "      elif w in self.class_2_k_frequent:\n",
        "        score -= 1\n",
        "    \n",
        "    # assign class according to score\n",
        "    if score > 0:\n",
        "      return self.labels[0]\n",
        "    elif score < 0:\n",
        "      return self.labels[1]\n",
        "    else:\n",
        "      # if the score is zero, classify randomly\n",
        "      return random.choice(self.labels)\n",
        "\n",
        "  def train(self, train_data, k):\n",
        "    \"\"\"\n",
        "    given the training data, and a top k number of most frequent words, returns\n",
        "    two lists:\n",
        "    1) k most frequent words in class 1 of the training data than class 2\n",
        "    2) k most frequent words in class 2 of the training data than class 1\n",
        "    \"\"\"\n",
        "    train_freq = {}\n",
        "    # for each review in the training data, create a dictionary of word frequencies\n",
        "    # that will be the 'value' of the 'train_freq' dictionary with the review label\n",
        "    # as key of the nested dictionary (e.g., dict = {label:{word1:freq1, word2:freq2}})\n",
        "    for (doc,label) in train_data:\n",
        "        doc_freq = train_freq.get(label,{})\n",
        "        for word in doc.keys():\n",
        "            doc_freq[word] = doc_freq.get(word,0) + 1\n",
        "      \n",
        "        train_freq[label] = doc_freq\n",
        "\n",
        "    # get class labels\n",
        "    label_1 = self.labels[0]\n",
        "    label_2 = self.labels[1]\n",
        "    # compute the frequency difference between words in each class\n",
        "    class_1 = [(word,freq - train_freq[label_2].get(word, 0)) for word,freq in train_freq[label_1].items()]\n",
        "    class_2 = [(word,freq - train_freq[label_1].get(word, 0)) for word,freq in train_freq[label_2].items()]\n",
        "    # descending sort of the lists of tuples above by the second value, which is the frequency\n",
        "    class_1_k_frequent = sorted(class_1,key=lambda pair:pair[1], reverse=True)[:k]\n",
        "    class_2_k_frequent = sorted(class_2,key=lambda pair:pair[1], reverse=True)[:k]\n",
        "\n",
        "    self.class_1_k_frequent = [word for word,freq in class_1_k_frequent]\n",
        "    self.class_2_k_frequent = [word for word,freq in class_2_k_frequent]"
      ],
      "execution_count": null,
      "outputs": []
    },
    {
      "cell_type": "code",
      "metadata": {
        "id": "UY6HWRTccgBe"
      },
      "source": [
        "class ConfusionMatrix:\n",
        "  \"\"\"\n",
        "  Class to obtain different metric measures\n",
        "  \"\"\"\n",
        "  def __init__(self,predictions,goldstandard,classes=(\"book\",\"dvd\")):\n",
        "      \"\"\"\n",
        "      The 'positive' class is the 'book' review, and the negative, the 'dvd'\n",
        "      review.\n",
        "      \"\"\"\n",
        "      (self.c1,self.c2)=classes\n",
        "      self.TP=0\n",
        "      self.FP=0\n",
        "      self.FN=0\n",
        "      self.TN=0\n",
        "      self.preds = predictions\n",
        "      self.gold = goldstandard\n",
        "      for p,g in zip(predictions,goldstandard):\n",
        "          if g==self.c1:\n",
        "              if p==self.c1:\n",
        "                  self.TP+=1\n",
        "              else:\n",
        "                  self.FN+=1\n",
        "          \n",
        "          elif p==self.c1:\n",
        "              self.FP+=1\n",
        "          else:\n",
        "              self.TN+=1\n",
        "\n",
        "  def accuracy(self):\n",
        "    \"\"\"\n",
        "    compute accuracy\n",
        "    \"\"\"\n",
        "    return sum(x == y for x, y in zip(self.preds, self.gold)) / len(self.gold)\n",
        "      \n",
        "  \n",
        "  def precision(self):\n",
        "    \"\"\"\n",
        "    compute precission\n",
        "    \"\"\"\n",
        "    p = 0 \n",
        "    p = (self.TP / (self.TP + self.FP))\n",
        "    self.p = p\n",
        "    return p\n",
        "  \n",
        "  def recall(self):\n",
        "    \"\"\"\n",
        "    compute recall\n",
        "    \"\"\"\n",
        "    r = 0\n",
        "    r = (self.TP / (self.TP + self.FN))\n",
        "    self.r = r\n",
        "    return r\n",
        "  \n",
        "  def f1(self):\n",
        "    \"\"\"\n",
        "    compute f1 score\n",
        "    \"\"\"\n",
        "    f1=0\n",
        "    # compute f1 here\n",
        "    f1 = 2*self.r*self.p / (self.r + self.p)\n",
        "      \n",
        "    return f1 "
      ],
      "execution_count": null,
      "outputs": []
    },
    {
      "cell_type": "code",
      "metadata": {
        "id": "FJ3CwyMQMHAp"
      },
      "source": [
        "def get_metrics(predictions, gold):\n",
        "  \"\"\"\n",
        "  given a set of predictions and the goldstandard labels, it computes\n",
        "  four different metrics:\n",
        "  - accuracy\n",
        "  - precission\n",
        "  - recall\n",
        "  - f1 score\n",
        "  \"\"\"\n",
        "  cm = ConfusionMatrix(predictions, gold)\n",
        "  return [cm.accuracy(), cm.precision(), cm.recall(), cm.f1()]"
      ],
      "execution_count": null,
      "outputs": []
    },
    {
      "cell_type": "code",
      "metadata": {
        "id": "OL1d0BDWMSFf"
      },
      "source": [
        "def test_ks_frequent(train_data, test_data, gold, ks):\n",
        "  \"\"\"\n",
        "  using the whole training data, test the classifier using different k\n",
        "  \"\"\"\n",
        "  sc = SimpleClassifier()\n",
        "  predict_ks = []\n",
        "  metrics = []\n",
        "  for k in ks:\n",
        "    sc.train(train_data, k)\n",
        "    predictions_sc = [sc.classify(doc) for doc,label in test_data]\n",
        "    predict_ks.append(predictions_sc)\n",
        "    metrics.append(get_metrics(predictions_sc, gold))\n",
        "\n",
        "  return metrics, predict_ks"
      ],
      "execution_count": null,
      "outputs": []
    },
    {
      "cell_type": "code",
      "metadata": {
        "id": "pDXhtWPDMuFL"
      },
      "source": [
        "def get_gold(data):\n",
        "  \"\"\"\n",
        "  get goldstandard labels\n",
        "  \"\"\"\n",
        "  return [label for doc,label in data]"
      ],
      "execution_count": null,
      "outputs": []
    },
    {
      "cell_type": "code",
      "metadata": {
        "id": "lHBM-y73tGOG"
      },
      "source": [
        "gold = get_gold(pre_proc_test)"
      ],
      "execution_count": null,
      "outputs": []
    },
    {
      "cell_type": "markdown",
      "metadata": {
        "id": "69HapL7dDtQ0"
      },
      "source": [
        "Since classes are rather balanced, I will choose the accuracy as the metric to set the best parameter k in each training sample size"
      ]
    },
    {
      "cell_type": "code",
      "metadata": {
        "id": "zNZj_jf8tUYY"
      },
      "source": [
        "def get_best_k(ks, accuracies):\n",
        "  \"\"\"\n",
        "  get the best parameter k for each training sample based on the accuracy\n",
        "  of the classifier\n",
        "  \"\"\"\n",
        "  ks_accuracies = list(zip(ks, accuracies))\n",
        "  return max(ks_accuracies, key=lambda t:t[1])[0]"
      ],
      "execution_count": null,
      "outputs": []
    },
    {
      "cell_type": "code",
      "metadata": {
        "id": "2nH4ocX4Us7E"
      },
      "source": [
        "# train and classify test data using simple classifier with different k values\n",
        "ks = list(range(1, 110, 10))\n",
        "metrics_sc, predictions_sc = test_ks_frequent(pre_proc_train, pre_proc_test, gold, ks)"
      ],
      "execution_count": null,
      "outputs": []
    },
    {
      "cell_type": "code",
      "metadata": {
        "id": "emAs4U7wt039"
      },
      "source": [
        "# get accuracies to obtain the best k in this sample data\n",
        "accuracies = [metrics[0] for metrics in metrics_sc]\n",
        "best_k = get_best_k(ks, accuracies)"
      ],
      "execution_count": null,
      "outputs": []
    },
    {
      "cell_type": "code",
      "metadata": {
        "colab": {
          "base_uri": "https://localhost:8080/",
          "height": 656
        },
        "id": "1G-58oUTOulD",
        "outputId": "3551ac4c-3bd2-41f5-aba9-55f1eef197c7"
      },
      "source": [
        "# zip k values with the metrics\n",
        "values = [[x] + y for x,y in zip(ks, metrics_sc)]\n",
        "cols = ['k', 'Accuracy', 'Precision', 'Recall', 'F1']\n",
        "# create pandas dataframe to show the metrics for the simple classifier\n",
        "df = pd.DataFrame(values, columns=cols)\n",
        "display(df) \n",
        "\n",
        "# create a plot bar to show the value of each metric for the simple classifier\n",
        "for ind in range(len(metrics_sc[0])):\n",
        "  plt.plot(ks,[metric[ind] for metric in metrics_sc],label = cols[ind + 1])\n",
        "  \n",
        "plt.title('Metrics for the Simple binary classifier')\n",
        "plt.xlabel('k')\n",
        "plt.ylabel('value')\n",
        "plt.legend(loc='best')\n",
        "plt.xticks(ks)\n",
        "plt.yticks(np.arange(0, 1.01, 0.1))\n",
        "plt.show()"
      ],
      "execution_count": null,
      "outputs": [
        {
          "output_type": "display_data",
          "data": {
            "text/html": [
              "<div>\n",
              "<style scoped>\n",
              "    .dataframe tbody tr th:only-of-type {\n",
              "        vertical-align: middle;\n",
              "    }\n",
              "\n",
              "    .dataframe tbody tr th {\n",
              "        vertical-align: top;\n",
              "    }\n",
              "\n",
              "    .dataframe thead th {\n",
              "        text-align: right;\n",
              "    }\n",
              "</style>\n",
              "<table border=\"1\" class=\"dataframe\">\n",
              "  <thead>\n",
              "    <tr style=\"text-align: right;\">\n",
              "      <th></th>\n",
              "      <th>k</th>\n",
              "      <th>Accuracy</th>\n",
              "      <th>Precision</th>\n",
              "      <th>Recall</th>\n",
              "      <th>F1</th>\n",
              "    </tr>\n",
              "  </thead>\n",
              "  <tbody>\n",
              "    <tr>\n",
              "      <th>0</th>\n",
              "      <td>1</td>\n",
              "      <td>0.803501</td>\n",
              "      <td>0.705963</td>\n",
              "      <td>0.894874</td>\n",
              "      <td>0.789272</td>\n",
              "    </tr>\n",
              "    <tr>\n",
              "      <th>1</th>\n",
              "      <td>11</td>\n",
              "      <td>0.866024</td>\n",
              "      <td>0.932071</td>\n",
              "      <td>0.727194</td>\n",
              "      <td>0.816984</td>\n",
              "    </tr>\n",
              "    <tr>\n",
              "      <th>2</th>\n",
              "      <td>21</td>\n",
              "      <td>0.803144</td>\n",
              "      <td>0.950450</td>\n",
              "      <td>0.549957</td>\n",
              "      <td>0.696753</td>\n",
              "    </tr>\n",
              "    <tr>\n",
              "      <th>3</th>\n",
              "      <td>31</td>\n",
              "      <td>0.793855</td>\n",
              "      <td>0.947040</td>\n",
              "      <td>0.528236</td>\n",
              "      <td>0.678193</td>\n",
              "    </tr>\n",
              "    <tr>\n",
              "      <th>4</th>\n",
              "      <td>41</td>\n",
              "      <td>0.767060</td>\n",
              "      <td>0.947935</td>\n",
              "      <td>0.458732</td>\n",
              "      <td>0.618267</td>\n",
              "    </tr>\n",
              "    <tr>\n",
              "      <th>5</th>\n",
              "      <td>51</td>\n",
              "      <td>0.755270</td>\n",
              "      <td>0.948077</td>\n",
              "      <td>0.428323</td>\n",
              "      <td>0.590066</td>\n",
              "    </tr>\n",
              "    <tr>\n",
              "      <th>6</th>\n",
              "      <td>61</td>\n",
              "      <td>0.731690</td>\n",
              "      <td>0.960829</td>\n",
              "      <td>0.362294</td>\n",
              "      <td>0.526183</td>\n",
              "    </tr>\n",
              "    <tr>\n",
              "      <th>7</th>\n",
              "      <td>71</td>\n",
              "      <td>0.715255</td>\n",
              "      <td>0.958549</td>\n",
              "      <td>0.321460</td>\n",
              "      <td>0.481457</td>\n",
              "    </tr>\n",
              "    <tr>\n",
              "      <th>8</th>\n",
              "      <td>81</td>\n",
              "      <td>0.704537</td>\n",
              "      <td>0.955056</td>\n",
              "      <td>0.295395</td>\n",
              "      <td>0.451228</td>\n",
              "    </tr>\n",
              "    <tr>\n",
              "      <th>9</th>\n",
              "      <td>91</td>\n",
              "      <td>0.692033</td>\n",
              "      <td>0.950156</td>\n",
              "      <td>0.264987</td>\n",
              "      <td>0.414402</td>\n",
              "    </tr>\n",
              "    <tr>\n",
              "      <th>10</th>\n",
              "      <td>101</td>\n",
              "      <td>0.686674</td>\n",
              "      <td>0.956667</td>\n",
              "      <td>0.249348</td>\n",
              "      <td>0.395589</td>\n",
              "    </tr>\n",
              "  </tbody>\n",
              "</table>\n",
              "</div>"
            ],
            "text/plain": [
              "      k  Accuracy  Precision    Recall        F1\n",
              "0     1  0.803501   0.705963  0.894874  0.789272\n",
              "1    11  0.866024   0.932071  0.727194  0.816984\n",
              "2    21  0.803144   0.950450  0.549957  0.696753\n",
              "3    31  0.793855   0.947040  0.528236  0.678193\n",
              "4    41  0.767060   0.947935  0.458732  0.618267\n",
              "5    51  0.755270   0.948077  0.428323  0.590066\n",
              "6    61  0.731690   0.960829  0.362294  0.526183\n",
              "7    71  0.715255   0.958549  0.321460  0.481457\n",
              "8    81  0.704537   0.955056  0.295395  0.451228\n",
              "9    91  0.692033   0.950156  0.264987  0.414402\n",
              "10  101  0.686674   0.956667  0.249348  0.395589"
            ]
          },
          "metadata": {
            "tags": []
          }
        },
        {
          "output_type": "display_data",
          "data": {
            "image/png": "[encoded data removed]",
            "text/plain": [
              "<Figure size 432x288 with 1 Axes>"
            ]
          },
          "metadata": {
            "tags": [],
            "needs_background": "light"
          }
        }
      ]
    },
    {
      "cell_type": "markdown",
      "metadata": {
        "id": "ROxGS3p-WUXP"
      },
      "source": [
        "**Discussion**: Here I have considered that the possitive class is 'book'. From the k more frequent words, it can be observed that words in the 'book' class occur, except from the first few words, occur have a less frequency than the words from the 'dvd' list. In the 'dvd' calss, even the less more frequent words still occur much more frequently than in book reviews. This explains the values of precission, recall, and f1 as k increases. The word list for book reviews will match only the most relevant words related to book reviews because less common words might occur more in the dvd review. This means that in book reviews there are less class relevant words than in dvd reviews. Thus, there are less words used in book reviews that occur much more frequently in dvd reviews than words used in dvd reviews that occur much more frequently than book reviews. That is why a lot of book reviews might contain the word 'great', but since it is more used in dvd reviews, it might be the case that a book reviews that could be characterized by that word will be categorized as a dvd review. \n",
        "\n",
        "Therefore, having words that are less more frequent results in a higher probability of not categorizing a true review as true. This implies that only very specific reviews will be correctly categorized (high precision) and, as a consequence, there will be a lot of 'misses' (low recall). The inverse happens with the 'negative' class (dvd reivews). Similarly, it is expected to observe recall and f1 score decreases as k increases. "
      ]
    },
    {
      "cell_type": "markdown",
      "metadata": {
        "id": "LIS9UpmJNEAp"
      },
      "source": [
        "c) Compare the performance of your word list classifier with a Naive Bayes classifier (e.g., from NLTK).  Make sure you discuss the results. [10 marks]"
      ]
    },
    {
      "cell_type": "code",
      "metadata": {
        "id": "3YUiYKyrOSA0",
        "colab": {
          "base_uri": "https://localhost:8080/",
          "height": 432
        },
        "outputId": "435d117b-d4bd-4988-a17c-fae4f8bb9625"
      },
      "source": [
        "# train and classify test data using simple classifier\n",
        "train_nbc = NaiveBayesClassifier.train(pre_proc_train)\n",
        "predictions_nbc = [train_nbc.classify(doc) for doc,label in pre_proc_test]\n",
        "\n",
        "# store metrics for naive bayes classsifier\n",
        "metrics_nbc = get_metrics(predictions_nbc, gold)\n",
        "\n",
        "# labels for each metric measure\n",
        "labs = cols[1:]\n",
        "\n",
        "# create pandas dataframe to show the metrics for naive bayes classifier\n",
        "df = pd.DataFrame(zip(labs,metrics_nbc), columns=['metric', 'value'])\n",
        "display(df) \n",
        "\n",
        "# create a plot bar to show the value of each metric for naive bayes classifier\n",
        "for ind in range(len(labs)):\n",
        "  plt.bar(labs[ind], metrics_nbc[ind])\n",
        "\n",
        "plt.title('Metrics for the naive bayes classifier')\n",
        "plt.ylabel('value')\n",
        "plt.yticks(np.arange(0, 1.1, 0.1))\n",
        "plt.show()"
      ],
      "execution_count": null,
      "outputs": [
        {
          "output_type": "display_data",
          "data": {
            "text/html": [
              "<div>\n",
              "<style scoped>\n",
              "    .dataframe tbody tr th:only-of-type {\n",
              "        vertical-align: middle;\n",
              "    }\n",
              "\n",
              "    .dataframe tbody tr th {\n",
              "        vertical-align: top;\n",
              "    }\n",
              "\n",
              "    .dataframe thead th {\n",
              "        text-align: right;\n",
              "    }\n",
              "</style>\n",
              "<table border=\"1\" class=\"dataframe\">\n",
              "  <thead>\n",
              "    <tr style=\"text-align: right;\">\n",
              "      <th></th>\n",
              "      <th>metric</th>\n",
              "      <th>value</th>\n",
              "    </tr>\n",
              "  </thead>\n",
              "  <tbody>\n",
              "    <tr>\n",
              "      <th>0</th>\n",
              "      <td>Accuracy</td>\n",
              "      <td>0.931404</td>\n",
              "    </tr>\n",
              "    <tr>\n",
              "      <th>1</th>\n",
              "      <td>Precision</td>\n",
              "      <td>0.934723</td>\n",
              "    </tr>\n",
              "    <tr>\n",
              "      <th>2</th>\n",
              "      <td>Recall</td>\n",
              "      <td>0.895743</td>\n",
              "    </tr>\n",
              "    <tr>\n",
              "      <th>3</th>\n",
              "      <td>F1</td>\n",
              "      <td>0.914818</td>\n",
              "    </tr>\n",
              "  </tbody>\n",
              "</table>\n",
              "</div>"
            ],
            "text/plain": [
              "      metric     value\n",
              "0   Accuracy  0.931404\n",
              "1  Precision  0.934723\n",
              "2     Recall  0.895743\n",
              "3         F1  0.914818"
            ]
          },
          "metadata": {
            "tags": []
          }
        },
        {
          "output_type": "display_data",
          "data": {
            "image/png": "[encoded data removed]",
            "text/plain": [
              "<Figure size 432x288 with 1 Axes>"
            ]
          },
          "metadata": {
            "tags": [],
            "needs_background": "light"
          }
        }
      ]
    },
    {
      "cell_type": "markdown",
      "metadata": {
        "id": "5eLWSDa8cXIO"
      },
      "source": [
        "**DISCUSS**\n",
        "The Naïve Bayes classifier performs better than the Simple classifier (no matter the k chosen) in all metrics except from the precission (due to the reasons explained above). It shows that a classifier based on the probability distribution of the words ind documents and classes returns better results that a classifier baseed on word lists."
      ]
    },
    {
      "cell_type": "markdown",
      "metadata": {
        "id": "LGDXaVDqOSfY"
      },
      "source": [
        "d) Design and carry out an experiment into the impact of the amount of training data on each of these classifiers.  Make sure you describe design decisions in your experiment, include a graph of your results and discuss your conclusions. [15 marks] "
      ]
    },
    {
      "cell_type": "markdown",
      "metadata": {
        "id": "WMKG3hjPI26j"
      },
      "source": [
        "**Experiment**: I will train each of the classifiers using random samples of data of different sizes. moreover, for the Simple classifier, I will compute the best parameter k for each training sample. After that, I will compute the metrics obtained by each classifier for each training sample size. by doing that, I expect to observe how the performance of each classifier varies depending on the amount of training data used."
      ]
    },
    {
      "cell_type": "code",
      "metadata": {
        "id": "HgXiP6We70j0"
      },
      "source": [
        "def predictions(train_data, test_data, classifier, k):\n",
        "  \"\"\"\n",
        "  Given the selected classifier, it is trained and used to classify the test data\n",
        "  \"\"\"\n",
        " \n",
        "  if 'NaiveBayesClassifier' in str(classifier):\n",
        "    cl = classifier.train(train_data)\n",
        "    predict = [cl.classify(doc) for doc,label in test_data]\n",
        "\n",
        "  elif 'SimpleClassifier' in str(classifier):\n",
        "    cl = classifier()\n",
        "    cl.train(train_data, k)\n",
        "    predict = [cl.classify(doc) for doc,label in test_data]\n",
        "\n",
        "  else:\n",
        "    return 'Classifier not admitted. Try \\'NaiveBayesClassifier\\' or \\'SimpleClassifier\\'.'\n",
        "\n",
        "  return predict\n"
      ],
      "execution_count": null,
      "outputs": []
    },
    {
      "cell_type": "code",
      "metadata": {
        "id": "69EyhdDepqix"
      },
      "source": [
        "def systematic_test(train_data, test_data, sizes, ks, gold):\n",
        "  \"\"\"\n",
        "  Compare the performance of each classifier for different training sample sizes.\n",
        "  For the simple classifier, it is used the best k (calling the function\n",
        "  described above) for each training sample size\n",
        "  \"\"\"\n",
        "  sc_metrics = []\n",
        "  nbc_metrics = []\n",
        "  ks_used = []\n",
        "  sc = SimpleClassifier()\n",
        "  for n in sizes:\n",
        "    # get a random sample from the training data\n",
        "    train = sample(train_data, n)\n",
        "\n",
        "    # calculate metrics and predictions for the current train sample using\n",
        "    # different k in Simple classifier. Then, use the best k to store the\n",
        "    # predictions made corresponding to the current training sample\n",
        "    metrics_sc, predictions_sc = test_ks_frequent(train, test_data, gold, ks)\n",
        "    accuracies = [metrics[0] for metrics in metrics_sc]\n",
        "    best_k = get_best_k(ks, accuracies)\n",
        "    k_index = ks.index(best_k)\n",
        "    predictions_sc = predictions_sc[k_index]\n",
        "\n",
        "    # train and classify using Naive Bayes classifier\n",
        "    nbc = NaiveBayesClassifier.train(train)\n",
        "    predictions_nbc = predictions(train, test_data, NaiveBayesClassifier, None)\n",
        "    \n",
        "    # store metrics of each classifier for the current training sample\n",
        "    sc_metrics.append(get_metrics(predictions_sc, gold))\n",
        "    nbc_metrics.append(get_metrics(predictions_nbc, gold))\n",
        "    ks_used.append(best_k)\n",
        "\n",
        "  return sc_metrics, nbc_metrics, ks_used"
      ],
      "execution_count": null,
      "outputs": []
    },
    {
      "cell_type": "code",
      "metadata": {
        "id": "KQPWrJMucNK0"
      },
      "source": [
        "# Predictions of Simple and Naive Bayes classifier for different training data sizes\n",
        "# choosing in each training sample the best k\n",
        "sample_sizes = list(map(int, np.linspace(10, len(pre_proc_train), 50)))\n",
        "sc_met, nbc_met, ks_used = systematic_test(pre_proc_train, pre_proc_test, \n",
        "                           sample_sizes, ks, gold)"
      ],
      "execution_count": null,
      "outputs": []
    },
    {
      "cell_type": "code",
      "metadata": {
        "colab": {
          "base_uri": "https://localhost:8080/",
          "height": 1000
        },
        "id": "WvpwB8H2Igju",
        "outputId": "e4730b5a-83d8-4a10-8ac8-76e2bbfd9617"
      },
      "source": [
        "# zip ks with results and then zip sample_sizes with the result of the previous\n",
        "# zip\n",
        "ks_with_results = [[x]+y+z for x,y,z in zip(ks_used, sc_met, nbc_met)] \n",
        "ss_ks_results = [[x]+y for x,y in zip(sample_sizes, ks_with_results)]\n",
        "\n",
        "cols = [\"Sample\", \"Best k\", \"Accuracy SC\",\"Precision SC\",\"Recall SC\",\n",
        "        \"F1 SC\", \"Accuracy NBC\", \"Precision NBC\", \"Recall NBC\",\"F1 NBC\"]\n",
        "\n",
        "df = pd.DataFrame(ss_ks_results,columns = cols)\n",
        "display(df)\n",
        "for ind in range(2, len(cols) - 4):\n",
        "  ax = df.plot(kind='line',x = 'Sample',y=[cols[ind], cols[ind + 4]],\n",
        "               title=\"Comparing \" + cols[ind] + \" and \" + cols[ind + 4])\n",
        "\n",
        "# set the y-axis label\n",
        "ax.set_ylabel(\"value\")\n",
        "# set the y axis range \n",
        "ax.legend(loc='best')\n",
        "plt.show()"
      ],
      "execution_count": null,
      "outputs": [
        {
          "output_type": "display_data",
          "data": {
            "text/html": [
              "<div>\n",
              "<style scoped>\n",
              "    .dataframe tbody tr th:only-of-type {\n",
              "        vertical-align: middle;\n",
              "    }\n",
              "\n",
              "    .dataframe tbody tr th {\n",
              "        vertical-align: top;\n",
              "    }\n",
              "\n",
              "    .dataframe thead th {\n",
              "        text-align: right;\n",
              "    }\n",
              "</style>\n",
              "<table border=\"1\" class=\"dataframe\">\n",
              "  <thead>\n",
              "    <tr style=\"text-align: right;\">\n",
              "      <th></th>\n",
              "      <th>Sample</th>\n",
              "      <th>Best k</th>\n",
              "      <th>Accuracy SC</th>\n",
              "      <th>Precision SC</th>\n",
              "      <th>Recall SC</th>\n",
              "      <th>F1 SC</th>\n",
              "      <th>Accuracy NBC</th>\n",
              "      <th>Precision NBC</th>\n",
              "      <th>Recall NBC</th>\n",
              "      <th>F1 NBC</th>\n",
              "    </tr>\n",
              "  </thead>\n",
              "  <tbody>\n",
              "    <tr>\n",
              "      <th>0</th>\n",
              "      <td>10</td>\n",
              "      <td>1</td>\n",
              "      <td>0.788139</td>\n",
              "      <td>0.688005</td>\n",
              "      <td>0.887055</td>\n",
              "      <td>0.774953</td>\n",
              "      <td>0.696677</td>\n",
              "      <td>0.582604</td>\n",
              "      <td>0.925282</td>\n",
              "      <td>0.715005</td>\n",
              "    </tr>\n",
              "    <tr>\n",
              "      <th>1</th>\n",
              "      <td>142</td>\n",
              "      <td>11</td>\n",
              "      <td>0.848875</td>\n",
              "      <td>0.871429</td>\n",
              "      <td>0.741964</td>\n",
              "      <td>0.801502</td>\n",
              "      <td>0.892462</td>\n",
              "      <td>0.901701</td>\n",
              "      <td>0.828844</td>\n",
              "      <td>0.863739</td>\n",
              "    </tr>\n",
              "    <tr>\n",
              "      <th>2</th>\n",
              "      <td>275</td>\n",
              "      <td>11</td>\n",
              "      <td>0.880672</td>\n",
              "      <td>0.907278</td>\n",
              "      <td>0.790617</td>\n",
              "      <td>0.844940</td>\n",
              "      <td>0.896034</td>\n",
              "      <td>0.928287</td>\n",
              "      <td>0.809731</td>\n",
              "      <td>0.864965</td>\n",
              "    </tr>\n",
              "    <tr>\n",
              "      <th>3</th>\n",
              "      <td>408</td>\n",
              "      <td>21</td>\n",
              "      <td>0.859593</td>\n",
              "      <td>0.923937</td>\n",
              "      <td>0.717637</td>\n",
              "      <td>0.807824</td>\n",
              "      <td>0.903894</td>\n",
              "      <td>0.865672</td>\n",
              "      <td>0.907037</td>\n",
              "      <td>0.885872</td>\n",
              "    </tr>\n",
              "    <tr>\n",
              "      <th>4</th>\n",
              "      <td>541</td>\n",
              "      <td>11</td>\n",
              "      <td>0.853876</td>\n",
              "      <td>0.908590</td>\n",
              "      <td>0.716768</td>\n",
              "      <td>0.801360</td>\n",
              "      <td>0.911754</td>\n",
              "      <td>0.886986</td>\n",
              "      <td>0.900087</td>\n",
              "      <td>0.893489</td>\n",
              "    </tr>\n",
              "    <tr>\n",
              "      <th>5</th>\n",
              "      <td>674</td>\n",
              "      <td>11</td>\n",
              "      <td>0.862451</td>\n",
              "      <td>0.918122</td>\n",
              "      <td>0.730669</td>\n",
              "      <td>0.813740</td>\n",
              "      <td>0.902108</td>\n",
              "      <td>0.931170</td>\n",
              "      <td>0.822763</td>\n",
              "      <td>0.873616</td>\n",
              "    </tr>\n",
              "    <tr>\n",
              "      <th>6</th>\n",
              "      <td>807</td>\n",
              "      <td>11</td>\n",
              "      <td>0.835298</td>\n",
              "      <td>0.916667</td>\n",
              "      <td>0.659427</td>\n",
              "      <td>0.767054</td>\n",
              "      <td>0.884244</td>\n",
              "      <td>0.950927</td>\n",
              "      <td>0.757602</td>\n",
              "      <td>0.843327</td>\n",
              "    </tr>\n",
              "    <tr>\n",
              "      <th>7</th>\n",
              "      <td>940</td>\n",
              "      <td>11</td>\n",
              "      <td>0.845659</td>\n",
              "      <td>0.920468</td>\n",
              "      <td>0.683753</td>\n",
              "      <td>0.784646</td>\n",
              "      <td>0.919257</td>\n",
              "      <td>0.931839</td>\n",
              "      <td>0.867072</td>\n",
              "      <td>0.898290</td>\n",
              "    </tr>\n",
              "    <tr>\n",
              "      <th>8</th>\n",
              "      <td>1073</td>\n",
              "      <td>11</td>\n",
              "      <td>0.854234</td>\n",
              "      <td>0.908691</td>\n",
              "      <td>0.717637</td>\n",
              "      <td>0.801942</td>\n",
              "      <td>0.915327</td>\n",
              "      <td>0.918498</td>\n",
              "      <td>0.871416</td>\n",
              "      <td>0.894338</td>\n",
              "    </tr>\n",
              "    <tr>\n",
              "      <th>9</th>\n",
              "      <td>1206</td>\n",
              "      <td>11</td>\n",
              "      <td>0.854234</td>\n",
              "      <td>0.925544</td>\n",
              "      <td>0.701998</td>\n",
              "      <td>0.798419</td>\n",
              "      <td>0.912469</td>\n",
              "      <td>0.944990</td>\n",
              "      <td>0.835795</td>\n",
              "      <td>0.887045</td>\n",
              "    </tr>\n",
              "    <tr>\n",
              "      <th>10</th>\n",
              "      <td>1339</td>\n",
              "      <td>11</td>\n",
              "      <td>0.846374</td>\n",
              "      <td>0.918699</td>\n",
              "      <td>0.687228</td>\n",
              "      <td>0.786282</td>\n",
              "      <td>0.923901</td>\n",
              "      <td>0.937500</td>\n",
              "      <td>0.873154</td>\n",
              "      <td>0.904184</td>\n",
              "    </tr>\n",
              "    <tr>\n",
              "      <th>11</th>\n",
              "      <td>1472</td>\n",
              "      <td>11</td>\n",
              "      <td>0.861022</td>\n",
              "      <td>0.929054</td>\n",
              "      <td>0.716768</td>\n",
              "      <td>0.809220</td>\n",
              "      <td>0.917471</td>\n",
              "      <td>0.891156</td>\n",
              "      <td>0.910513</td>\n",
              "      <td>0.900731</td>\n",
              "    </tr>\n",
              "    <tr>\n",
              "      <th>12</th>\n",
              "      <td>1605</td>\n",
              "      <td>11</td>\n",
              "      <td>0.827438</td>\n",
              "      <td>0.926020</td>\n",
              "      <td>0.630756</td>\n",
              "      <td>0.750388</td>\n",
              "      <td>0.902822</td>\n",
              "      <td>0.941709</td>\n",
              "      <td>0.814075</td>\n",
              "      <td>0.873253</td>\n",
              "    </tr>\n",
              "    <tr>\n",
              "      <th>13</th>\n",
              "      <td>1738</td>\n",
              "      <td>11</td>\n",
              "      <td>0.867810</td>\n",
              "      <td>0.925845</td>\n",
              "      <td>0.737619</td>\n",
              "      <td>0.821083</td>\n",
              "      <td>0.923901</td>\n",
              "      <td>0.935874</td>\n",
              "      <td>0.874891</td>\n",
              "      <td>0.904356</td>\n",
              "    </tr>\n",
              "    <tr>\n",
              "      <th>14</th>\n",
              "      <td>1871</td>\n",
              "      <td>11</td>\n",
              "      <td>0.828153</td>\n",
              "      <td>0.910539</td>\n",
              "      <td>0.645526</td>\n",
              "      <td>0.755465</td>\n",
              "      <td>0.929260</td>\n",
              "      <td>0.917616</td>\n",
              "      <td>0.909644</td>\n",
              "      <td>0.913613</td>\n",
              "    </tr>\n",
              "    <tr>\n",
              "      <th>15</th>\n",
              "      <td>2004</td>\n",
              "      <td>11</td>\n",
              "      <td>0.867453</td>\n",
              "      <td>0.928571</td>\n",
              "      <td>0.734144</td>\n",
              "      <td>0.819990</td>\n",
              "      <td>0.882458</td>\n",
              "      <td>0.968109</td>\n",
              "      <td>0.738488</td>\n",
              "      <td>0.837851</td>\n",
              "    </tr>\n",
              "    <tr>\n",
              "      <th>16</th>\n",
              "      <td>2137</td>\n",
              "      <td>11</td>\n",
              "      <td>0.858878</td>\n",
              "      <td>0.916300</td>\n",
              "      <td>0.722850</td>\n",
              "      <td>0.808159</td>\n",
              "      <td>0.924616</td>\n",
              "      <td>0.910839</td>\n",
              "      <td>0.905300</td>\n",
              "      <td>0.908061</td>\n",
              "    </tr>\n",
              "    <tr>\n",
              "      <th>17</th>\n",
              "      <td>2270</td>\n",
              "      <td>11</td>\n",
              "      <td>0.852447</td>\n",
              "      <td>0.927083</td>\n",
              "      <td>0.695917</td>\n",
              "      <td>0.795037</td>\n",
              "      <td>0.930332</td>\n",
              "      <td>0.937729</td>\n",
              "      <td>0.889661</td>\n",
              "      <td>0.913063</td>\n",
              "    </tr>\n",
              "    <tr>\n",
              "      <th>18</th>\n",
              "      <td>2403</td>\n",
              "      <td>11</td>\n",
              "      <td>0.863880</td>\n",
              "      <td>0.920306</td>\n",
              "      <td>0.732407</td>\n",
              "      <td>0.815675</td>\n",
              "      <td>0.919971</td>\n",
              "      <td>0.912000</td>\n",
              "      <td>0.891399</td>\n",
              "      <td>0.901582</td>\n",
              "    </tr>\n",
              "    <tr>\n",
              "      <th>19</th>\n",
              "      <td>2536</td>\n",
              "      <td>11</td>\n",
              "      <td>0.858521</td>\n",
              "      <td>0.927520</td>\n",
              "      <td>0.711555</td>\n",
              "      <td>0.805310</td>\n",
              "      <td>0.924259</td>\n",
              "      <td>0.918822</td>\n",
              "      <td>0.894874</td>\n",
              "      <td>0.906690</td>\n",
              "    </tr>\n",
              "    <tr>\n",
              "      <th>20</th>\n",
              "      <td>2669</td>\n",
              "      <td>11</td>\n",
              "      <td>0.865309</td>\n",
              "      <td>0.937783</td>\n",
              "      <td>0.720243</td>\n",
              "      <td>0.814742</td>\n",
              "      <td>0.926402</td>\n",
              "      <td>0.893422</td>\n",
              "      <td>0.932233</td>\n",
              "      <td>0.912415</td>\n",
              "    </tr>\n",
              "    <tr>\n",
              "      <th>21</th>\n",
              "      <td>2802</td>\n",
              "      <td>11</td>\n",
              "      <td>0.855663</td>\n",
              "      <td>0.922034</td>\n",
              "      <td>0.708949</td>\n",
              "      <td>0.801572</td>\n",
              "      <td>0.926402</td>\n",
              "      <td>0.928377</td>\n",
              "      <td>0.889661</td>\n",
              "      <td>0.908607</td>\n",
              "    </tr>\n",
              "    <tr>\n",
              "      <th>22</th>\n",
              "      <td>2935</td>\n",
              "      <td>11</td>\n",
              "      <td>0.852447</td>\n",
              "      <td>0.936170</td>\n",
              "      <td>0.688097</td>\n",
              "      <td>0.793190</td>\n",
              "      <td>0.931404</td>\n",
              "      <td>0.922467</td>\n",
              "      <td>0.909644</td>\n",
              "      <td>0.916010</td>\n",
              "    </tr>\n",
              "    <tr>\n",
              "      <th>23</th>\n",
              "      <td>3068</td>\n",
              "      <td>11</td>\n",
              "      <td>0.845302</td>\n",
              "      <td>0.922353</td>\n",
              "      <td>0.681147</td>\n",
              "      <td>0.783608</td>\n",
              "      <td>0.928189</td>\n",
              "      <td>0.947269</td>\n",
              "      <td>0.874023</td>\n",
              "      <td>0.909173</td>\n",
              "    </tr>\n",
              "    <tr>\n",
              "      <th>24</th>\n",
              "      <td>3201</td>\n",
              "      <td>11</td>\n",
              "      <td>0.858164</td>\n",
              "      <td>0.923596</td>\n",
              "      <td>0.714162</td>\n",
              "      <td>0.805488</td>\n",
              "      <td>0.926402</td>\n",
              "      <td>0.934683</td>\n",
              "      <td>0.882711</td>\n",
              "      <td>0.907954</td>\n",
              "    </tr>\n",
              "    <tr>\n",
              "      <th>25</th>\n",
              "      <td>3334</td>\n",
              "      <td>11</td>\n",
              "      <td>0.842086</td>\n",
              "      <td>0.913652</td>\n",
              "      <td>0.680278</td>\n",
              "      <td>0.779880</td>\n",
              "      <td>0.933548</td>\n",
              "      <td>0.930419</td>\n",
              "      <td>0.906169</td>\n",
              "      <td>0.918134</td>\n",
              "    </tr>\n",
              "    <tr>\n",
              "      <th>26</th>\n",
              "      <td>3467</td>\n",
              "      <td>11</td>\n",
              "      <td>0.862451</td>\n",
              "      <td>0.922737</td>\n",
              "      <td>0.726325</td>\n",
              "      <td>0.812834</td>\n",
              "      <td>0.932119</td>\n",
              "      <td>0.917463</td>\n",
              "      <td>0.917463</td>\n",
              "      <td>0.917463</td>\n",
              "    </tr>\n",
              "    <tr>\n",
              "      <th>27</th>\n",
              "      <td>3600</td>\n",
              "      <td>11</td>\n",
              "      <td>0.865309</td>\n",
              "      <td>0.921569</td>\n",
              "      <td>0.735013</td>\n",
              "      <td>0.817786</td>\n",
              "      <td>0.931761</td>\n",
              "      <td>0.921793</td>\n",
              "      <td>0.911381</td>\n",
              "      <td>0.916557</td>\n",
              "    </tr>\n",
              "    <tr>\n",
              "      <th>28</th>\n",
              "      <td>3733</td>\n",
              "      <td>11</td>\n",
              "      <td>0.858164</td>\n",
              "      <td>0.929385</td>\n",
              "      <td>0.708949</td>\n",
              "      <td>0.804337</td>\n",
              "      <td>0.919614</td>\n",
              "      <td>0.950389</td>\n",
              "      <td>0.848827</td>\n",
              "      <td>0.896742</td>\n",
              "    </tr>\n",
              "    <tr>\n",
              "      <th>29</th>\n",
              "      <td>3866</td>\n",
              "      <td>11</td>\n",
              "      <td>0.846731</td>\n",
              "      <td>0.919767</td>\n",
              "      <td>0.687228</td>\n",
              "      <td>0.786673</td>\n",
              "      <td>0.927474</td>\n",
              "      <td>0.918728</td>\n",
              "      <td>0.903562</td>\n",
              "      <td>0.911082</td>\n",
              "    </tr>\n",
              "    <tr>\n",
              "      <th>30</th>\n",
              "      <td>3999</td>\n",
              "      <td>11</td>\n",
              "      <td>0.847446</td>\n",
              "      <td>0.922897</td>\n",
              "      <td>0.686360</td>\n",
              "      <td>0.787245</td>\n",
              "      <td>0.928189</td>\n",
              "      <td>0.926391</td>\n",
              "      <td>0.896612</td>\n",
              "      <td>0.911258</td>\n",
              "    </tr>\n",
              "    <tr>\n",
              "      <th>31</th>\n",
              "      <td>4132</td>\n",
              "      <td>11</td>\n",
              "      <td>0.851375</td>\n",
              "      <td>0.925840</td>\n",
              "      <td>0.694179</td>\n",
              "      <td>0.793446</td>\n",
              "      <td>0.925688</td>\n",
              "      <td>0.931382</td>\n",
              "      <td>0.884448</td>\n",
              "      <td>0.907308</td>\n",
              "    </tr>\n",
              "    <tr>\n",
              "      <th>32</th>\n",
              "      <td>4265</td>\n",
              "      <td>11</td>\n",
              "      <td>0.857092</td>\n",
              "      <td>0.932106</td>\n",
              "      <td>0.703736</td>\n",
              "      <td>0.801980</td>\n",
              "      <td>0.929975</td>\n",
              "      <td>0.940905</td>\n",
              "      <td>0.885317</td>\n",
              "      <td>0.912265</td>\n",
              "    </tr>\n",
              "    <tr>\n",
              "      <th>33</th>\n",
              "      <td>4398</td>\n",
              "      <td>11</td>\n",
              "      <td>0.861379</td>\n",
              "      <td>0.924360</td>\n",
              "      <td>0.721981</td>\n",
              "      <td>0.810732</td>\n",
              "      <td>0.929975</td>\n",
              "      <td>0.930568</td>\n",
              "      <td>0.896612</td>\n",
              "      <td>0.913274</td>\n",
              "    </tr>\n",
              "    <tr>\n",
              "      <th>34</th>\n",
              "      <td>4531</td>\n",
              "      <td>11</td>\n",
              "      <td>0.850661</td>\n",
              "      <td>0.928655</td>\n",
              "      <td>0.689835</td>\n",
              "      <td>0.791625</td>\n",
              "      <td>0.929618</td>\n",
              "      <td>0.928187</td>\n",
              "      <td>0.898349</td>\n",
              "      <td>0.913024</td>\n",
              "    </tr>\n",
              "    <tr>\n",
              "      <th>35</th>\n",
              "      <td>4664</td>\n",
              "      <td>11</td>\n",
              "      <td>0.858164</td>\n",
              "      <td>0.919822</td>\n",
              "      <td>0.717637</td>\n",
              "      <td>0.806247</td>\n",
              "      <td>0.923187</td>\n",
              "      <td>0.937383</td>\n",
              "      <td>0.871416</td>\n",
              "      <td>0.903197</td>\n",
              "    </tr>\n",
              "    <tr>\n",
              "      <th>36</th>\n",
              "      <td>4797</td>\n",
              "      <td>11</td>\n",
              "      <td>0.849589</td>\n",
              "      <td>0.922454</td>\n",
              "      <td>0.692441</td>\n",
              "      <td>0.791067</td>\n",
              "      <td>0.929975</td>\n",
              "      <td>0.935278</td>\n",
              "      <td>0.891399</td>\n",
              "      <td>0.912811</td>\n",
              "    </tr>\n",
              "    <tr>\n",
              "      <th>37</th>\n",
              "      <td>4930</td>\n",
              "      <td>11</td>\n",
              "      <td>0.851018</td>\n",
              "      <td>0.926744</td>\n",
              "      <td>0.692441</td>\n",
              "      <td>0.792640</td>\n",
              "      <td>0.923187</td>\n",
              "      <td>0.940678</td>\n",
              "      <td>0.867941</td>\n",
              "      <td>0.902847</td>\n",
              "    </tr>\n",
              "    <tr>\n",
              "      <th>38</th>\n",
              "      <td>5063</td>\n",
              "      <td>11</td>\n",
              "      <td>0.853519</td>\n",
              "      <td>0.918644</td>\n",
              "      <td>0.706342</td>\n",
              "      <td>0.798625</td>\n",
              "      <td>0.929975</td>\n",
              "      <td>0.932910</td>\n",
              "      <td>0.894005</td>\n",
              "      <td>0.913043</td>\n",
              "    </tr>\n",
              "    <tr>\n",
              "      <th>39</th>\n",
              "      <td>5196</td>\n",
              "      <td>11</td>\n",
              "      <td>0.855305</td>\n",
              "      <td>0.919101</td>\n",
              "      <td>0.710686</td>\n",
              "      <td>0.801568</td>\n",
              "      <td>0.932119</td>\n",
              "      <td>0.937216</td>\n",
              "      <td>0.894874</td>\n",
              "      <td>0.915556</td>\n",
              "    </tr>\n",
              "    <tr>\n",
              "      <th>40</th>\n",
              "      <td>5329</td>\n",
              "      <td>11</td>\n",
              "      <td>0.857806</td>\n",
              "      <td>0.924464</td>\n",
              "      <td>0.712424</td>\n",
              "      <td>0.804711</td>\n",
              "      <td>0.931761</td>\n",
              "      <td>0.935572</td>\n",
              "      <td>0.895743</td>\n",
              "      <td>0.915224</td>\n",
              "    </tr>\n",
              "    <tr>\n",
              "      <th>41</th>\n",
              "      <td>5462</td>\n",
              "      <td>11</td>\n",
              "      <td>0.864594</td>\n",
              "      <td>0.926991</td>\n",
              "      <td>0.728063</td>\n",
              "      <td>0.815572</td>\n",
              "      <td>0.929618</td>\n",
              "      <td>0.936015</td>\n",
              "      <td>0.889661</td>\n",
              "      <td>0.912249</td>\n",
              "    </tr>\n",
              "    <tr>\n",
              "      <th>42</th>\n",
              "      <td>5595</td>\n",
              "      <td>11</td>\n",
              "      <td>0.858521</td>\n",
              "      <td>0.922732</td>\n",
              "      <td>0.715899</td>\n",
              "      <td>0.806262</td>\n",
              "      <td>0.927117</td>\n",
              "      <td>0.931632</td>\n",
              "      <td>0.887924</td>\n",
              "      <td>0.909253</td>\n",
              "    </tr>\n",
              "    <tr>\n",
              "      <th>43</th>\n",
              "      <td>5728</td>\n",
              "      <td>11</td>\n",
              "      <td>0.855663</td>\n",
              "      <td>0.918253</td>\n",
              "      <td>0.712424</td>\n",
              "      <td>0.802348</td>\n",
              "      <td>0.932119</td>\n",
              "      <td>0.933273</td>\n",
              "      <td>0.899218</td>\n",
              "      <td>0.915929</td>\n",
              "    </tr>\n",
              "    <tr>\n",
              "      <th>44</th>\n",
              "      <td>5861</td>\n",
              "      <td>11</td>\n",
              "      <td>0.846374</td>\n",
              "      <td>0.917729</td>\n",
              "      <td>0.688097</td>\n",
              "      <td>0.786495</td>\n",
              "      <td>0.931761</td>\n",
              "      <td>0.924779</td>\n",
              "      <td>0.907906</td>\n",
              "      <td>0.916265</td>\n",
              "    </tr>\n",
              "    <tr>\n",
              "      <th>45</th>\n",
              "      <td>5994</td>\n",
              "      <td>11</td>\n",
              "      <td>0.861379</td>\n",
              "      <td>0.926257</td>\n",
              "      <td>0.720243</td>\n",
              "      <td>0.810362</td>\n",
              "      <td>0.933548</td>\n",
              "      <td>0.939836</td>\n",
              "      <td>0.895743</td>\n",
              "      <td>0.917260</td>\n",
              "    </tr>\n",
              "    <tr>\n",
              "      <th>46</th>\n",
              "      <td>6127</td>\n",
              "      <td>11</td>\n",
              "      <td>0.862094</td>\n",
              "      <td>0.921720</td>\n",
              "      <td>0.726325</td>\n",
              "      <td>0.812439</td>\n",
              "      <td>0.933548</td>\n",
              "      <td>0.932735</td>\n",
              "      <td>0.903562</td>\n",
              "      <td>0.917917</td>\n",
              "    </tr>\n",
              "    <tr>\n",
              "      <th>47</th>\n",
              "      <td>6260</td>\n",
              "      <td>11</td>\n",
              "      <td>0.861736</td>\n",
              "      <td>0.924444</td>\n",
              "      <td>0.722850</td>\n",
              "      <td>0.811312</td>\n",
              "      <td>0.929618</td>\n",
              "      <td>0.932849</td>\n",
              "      <td>0.893136</td>\n",
              "      <td>0.912561</td>\n",
              "    </tr>\n",
              "    <tr>\n",
              "      <th>48</th>\n",
              "      <td>6393</td>\n",
              "      <td>11</td>\n",
              "      <td>0.861379</td>\n",
              "      <td>0.928171</td>\n",
              "      <td>0.718506</td>\n",
              "      <td>0.809990</td>\n",
              "      <td>0.932119</td>\n",
              "      <td>0.934056</td>\n",
              "      <td>0.898349</td>\n",
              "      <td>0.915855</td>\n",
              "    </tr>\n",
              "    <tr>\n",
              "      <th>49</th>\n",
              "      <td>6526</td>\n",
              "      <td>11</td>\n",
              "      <td>0.863165</td>\n",
              "      <td>0.923841</td>\n",
              "      <td>0.727194</td>\n",
              "      <td>0.813807</td>\n",
              "      <td>0.931404</td>\n",
              "      <td>0.934723</td>\n",
              "      <td>0.895743</td>\n",
              "      <td>0.914818</td>\n",
              "    </tr>\n",
              "  </tbody>\n",
              "</table>\n",
              "</div>"
            ],
            "text/plain": [
              "    Sample  Best k  Accuracy SC  ...  Precision NBC  Recall NBC    F1 NBC\n",
              "0       10       1     0.788139  ...       0.582604    0.925282  0.715005\n",
              "1      142      11     0.848875  ...       0.901701    0.828844  0.863739\n",
              "2      275      11     0.880672  ...       0.928287    0.809731  0.864965\n",
              "3      408      21     0.859593  ...       0.865672    0.907037  0.885872\n",
              "4      541      11     0.853876  ...       0.886986    0.900087  0.893489\n",
              "5      674      11     0.862451  ...       0.931170    0.822763  0.873616\n",
              "6      807      11     0.835298  ...       0.950927    0.757602  0.843327\n",
              "7      940      11     0.845659  ...       0.931839    0.867072  0.898290\n",
              "8     1073      11     0.854234  ...       0.918498    0.871416  0.894338\n",
              "9     1206      11     0.854234  ...       0.944990    0.835795  0.887045\n",
              "10    1339      11     0.846374  ...       0.937500    0.873154  0.904184\n",
              "11    1472      11     0.861022  ...       0.891156    0.910513  0.900731\n",
              "12    1605      11     0.827438  ...       0.941709    0.814075  0.873253\n",
              "13    1738      11     0.867810  ...       0.935874    0.874891  0.904356\n",
              "14    1871      11     0.828153  ...       0.917616    0.909644  0.913613\n",
              "15    2004      11     0.867453  ...       0.968109    0.738488  0.837851\n",
              "16    2137      11     0.858878  ...       0.910839    0.905300  0.908061\n",
              "17    2270      11     0.852447  ...       0.937729    0.889661  0.913063\n",
              "18    2403      11     0.863880  ...       0.912000    0.891399  0.901582\n",
              "19    2536      11     0.858521  ...       0.918822    0.894874  0.906690\n",
              "20    2669      11     0.865309  ...       0.893422    0.932233  0.912415\n",
              "21    2802      11     0.855663  ...       0.928377    0.889661  0.908607\n",
              "22    2935      11     0.852447  ...       0.922467    0.909644  0.916010\n",
              "23    3068      11     0.845302  ...       0.947269    0.874023  0.909173\n",
              "24    3201      11     0.858164  ...       0.934683    0.882711  0.907954\n",
              "25    3334      11     0.842086  ...       0.930419    0.906169  0.918134\n",
              "26    3467      11     0.862451  ...       0.917463    0.917463  0.917463\n",
              "27    3600      11     0.865309  ...       0.921793    0.911381  0.916557\n",
              "28    3733      11     0.858164  ...       0.950389    0.848827  0.896742\n",
              "29    3866      11     0.846731  ...       0.918728    0.903562  0.911082\n",
              "30    3999      11     0.847446  ...       0.926391    0.896612  0.911258\n",
              "31    4132      11     0.851375  ...       0.931382    0.884448  0.907308\n",
              "32    4265      11     0.857092  ...       0.940905    0.885317  0.912265\n",
              "33    4398      11     0.861379  ...       0.930568    0.896612  0.913274\n",
              "34    4531      11     0.850661  ...       0.928187    0.898349  0.913024\n",
              "35    4664      11     0.858164  ...       0.937383    0.871416  0.903197\n",
              "36    4797      11     0.849589  ...       0.935278    0.891399  0.912811\n",
              "37    4930      11     0.851018  ...       0.940678    0.867941  0.902847\n",
              "38    5063      11     0.853519  ...       0.932910    0.894005  0.913043\n",
              "39    5196      11     0.855305  ...       0.937216    0.894874  0.915556\n",
              "40    5329      11     0.857806  ...       0.935572    0.895743  0.915224\n",
              "41    5462      11     0.864594  ...       0.936015    0.889661  0.912249\n",
              "42    5595      11     0.858521  ...       0.931632    0.887924  0.909253\n",
              "43    5728      11     0.855663  ...       0.933273    0.899218  0.915929\n",
              "44    5861      11     0.846374  ...       0.924779    0.907906  0.916265\n",
              "45    5994      11     0.861379  ...       0.939836    0.895743  0.917260\n",
              "46    6127      11     0.862094  ...       0.932735    0.903562  0.917917\n",
              "47    6260      11     0.861736  ...       0.932849    0.893136  0.912561\n",
              "48    6393      11     0.861379  ...       0.934056    0.898349  0.915855\n",
              "49    6526      11     0.863165  ...       0.934723    0.895743  0.914818\n",
              "\n",
              "[50 rows x 10 columns]"
            ]
          },
          "metadata": {
            "tags": []
          }
        },
        {
          "output_type": "display_data",
          "data": {
            "image/png": "[encoded data removed]",
            "text/plain": [
              "<Figure size 432x288 with 1 Axes>"
            ]
          },
          "metadata": {
            "tags": [],
            "needs_background": "light"
          }
        },
        {
          "output_type": "display_data",
          "data": {
            "image/png": "[encoded data removed]",
            "text/plain": [
              "<Figure size 432x288 with 1 Axes>"
            ]
          },
          "metadata": {
            "tags": [],
            "needs_background": "light"
          }
        },
        {
          "output_type": "display_data",
          "data": {
            "image/png": "[encoded data removed]",
            "text/plain": [
              "<Figure size 432x288 with 1 Axes>"
            ]
          },
          "metadata": {
            "tags": [],
            "needs_background": "light"
          }
        },
        {
          "output_type": "display_data",
          "data": {
            "image/png": "[encoded data removed]",
            "text/plain": [
              "<Figure size 432x288 with 1 Axes>"
            ]
          },
          "metadata": {
            "tags": [],
            "needs_background": "light"
          }
        }
      ]
    },
    {
      "cell_type": "markdown",
      "metadata": {
        "id": "Ve36Xi4TDdVM"
      },
      "source": [
        "**Results**\n",
        "\n",
        "Regarding the Naïve Bayes classifier, its metrics are rather irregular for small training samples sizes. This could be due to the probabilistic nature of this classifier. Since it is based on the priors and posteriors, the probability distribution of both the classes and the words in them can vary a lot when the sample is small. However, as can be seen in all metrics, it always converges to some value as the sample size increases. As the sample gets bigger, the probability distributions tend to converge to some values that barely vary, and thus, the performance of the Naïve Bayes classifier stabilizes. \n",
        "\n",
        "Similarly, for the Simple classifier it can also be observed a tendency towards some specific range of values in all the metrics. For smaller training samples, it is possible that some of the classes might be underrepresented, while for larger training samples, both classes tend to occur the expected number of times.\n",
        "\n",
        "The performance of the Naïve Bayes classifier is slightly better for all metrics, except for the precision. As explained above, the word frequencies in both lists are very different, except from the first few terms. Thus, since the positive class is considered to be ‘book’, which has a word list with lower frequencies, it is expected that, among the documents that are clearly related to the ‘book’ class, the Simple classifier will classify them as ‘book’ (high precision). However, there will be a lot of misses regarding this class (low recall), which will be classified as belonging to the other class. \n",
        "Overall, since classes are quite balanced, it can be concluded, based on the accuracy, that the Naïve Bayes classifier performs better than the Simple classifier for large enough training samples. \n"
      ]
    },
    {
      "cell_type": "markdown",
      "metadata": {
        "id": "gjuuKPQrAvSu"
      },
      "source": [
        "# Question 2: Distributional Semantics\n",
        "\n",
        "In this question, you will be investigating the *distributional hypothesis*: **words which appear in similar contexts tend to have similar meanings**."
      ]
    },
    {
      "cell_type": "markdown",
      "metadata": {
        "id": "Mfr4MFbOd5nx"
      },
      "source": [
        "We are going to be using the Reuters corpus of financial documents for this part of the assignment.  When you run the following cell you should see that it contains 1,113,359 sentences."
      ]
    },
    {
      "cell_type": "code",
      "metadata": {
        "id": "Q4kNJlEYd1qc",
        "colab": {
          "base_uri": "https://localhost:8080/"
        },
        "outputId": "21eedea9-282c-497f-df1e-55ff07b149d3"
      },
      "source": [
        "#do not change the code in this cell\n",
        "rcr = ReutersCorpusReader().finance()\n",
        "rcr.enumerate_sents()"
      ],
      "execution_count": null,
      "outputs": [
        {
          "output_type": "execute_result",
          "data": {
            "text/plain": [
              "1113359"
            ]
          },
          "metadata": {
            "tags": []
          },
          "execution_count": 7
        }
      ]
    },
    {
      "cell_type": "markdown",
      "metadata": {
        "id": "CRApmpxneUqk"
      },
      "source": [
        "The following cell will take 2-5 minutes to run.  It will generate a unique-to-you sample of 200,000 sentences.  These sentences are tokenised and normalised for case and number for you."
      ]
    },
    {
      "cell_type": "code",
      "metadata": {
        "id": "RSPRsF6deOAR",
        "colab": {
          "base_uri": "https://localhost:8080/"
        },
        "outputId": "3e283cf2-ea9b-4165-ebd5-ebe14a790515"
      },
      "source": [
        "#do not change the code in this cell\n",
        "def normalise(tokenlist):\n",
        "    tokenlist=[token.lower() for token in tokenlist]\n",
        "    tokenlist=[\"NUM\" if token.isdigit() else token for token in tokenlist]\n",
        "    tokenlist=[\"Nth\" if (token.endswith((\"nd\",\"st\",\"th\")) and token[:-2].isdigit()) else token for token in tokenlist]\n",
        "    tokenlist=[\"NUM\" if re.search(\"^[+-]?[0-9]+\\.[0-9]\",token) else token for token in tokenlist]\n",
        "    return tokenlist\n",
        "\n",
        "random.seed(candidateno)  \n",
        "samplesize=2000\n",
        "iterations =100\n",
        "sentences=[]\n",
        "for i in range(0,iterations):\n",
        "    sentences+=[normalise(sent) for sent in rcr.sample_sents(samplesize=samplesize)]\n",
        "    print(\"Completed {}%\".format(i))\n",
        "print(\"Completed 100%\")\n"
      ],
      "execution_count": null,
      "outputs": [
        {
          "output_type": "stream",
          "text": [
            "Completed 0%\n",
            "Completed 1%\n",
            "Completed 2%\n",
            "Completed 3%\n",
            "Completed 4%\n",
            "Completed 5%\n",
            "Completed 6%\n",
            "Completed 7%\n",
            "Completed 8%\n",
            "Completed 9%\n",
            "Completed 10%\n",
            "Completed 11%\n",
            "Completed 12%\n",
            "Completed 13%\n",
            "Completed 14%\n",
            "Completed 15%\n",
            "Completed 16%\n",
            "Completed 17%\n",
            "Completed 18%\n",
            "Completed 19%\n",
            "Completed 20%\n",
            "Completed 21%\n",
            "Completed 22%\n",
            "Completed 23%\n",
            "Completed 24%\n",
            "Completed 25%\n",
            "Completed 26%\n",
            "Completed 27%\n",
            "Completed 28%\n",
            "Completed 29%\n",
            "Completed 30%\n",
            "Completed 31%\n",
            "Completed 32%\n",
            "Completed 33%\n",
            "Completed 34%\n",
            "Completed 35%\n",
            "Completed 36%\n",
            "Completed 37%\n",
            "Completed 38%\n",
            "Completed 39%\n",
            "Completed 40%\n",
            "Completed 41%\n",
            "Completed 42%\n",
            "Completed 43%\n",
            "Completed 44%\n",
            "Completed 45%\n",
            "Completed 46%\n",
            "Completed 47%\n",
            "Completed 48%\n",
            "Completed 49%\n",
            "Completed 50%\n",
            "Completed 51%\n",
            "Completed 52%\n",
            "Completed 53%\n",
            "Completed 54%\n",
            "Completed 55%\n",
            "Completed 56%\n",
            "Completed 57%\n",
            "Completed 58%\n",
            "Completed 59%\n",
            "Completed 60%\n",
            "Completed 61%\n",
            "Completed 62%\n",
            "Completed 63%\n",
            "Completed 64%\n",
            "Completed 65%\n",
            "Completed 66%\n",
            "Completed 67%\n",
            "Completed 68%\n",
            "Completed 69%\n",
            "Completed 70%\n",
            "Completed 71%\n",
            "Completed 72%\n",
            "Completed 73%\n",
            "Completed 74%\n",
            "Completed 75%\n",
            "Completed 76%\n",
            "Completed 77%\n",
            "Completed 78%\n",
            "Completed 79%\n",
            "Completed 80%\n",
            "Completed 81%\n",
            "Completed 82%\n",
            "Completed 83%\n",
            "Completed 84%\n",
            "Completed 85%\n",
            "Completed 86%\n",
            "Completed 87%\n",
            "Completed 88%\n",
            "Completed 89%\n",
            "Completed 90%\n",
            "Completed 91%\n",
            "Completed 92%\n",
            "Completed 93%\n",
            "Completed 94%\n",
            "Completed 95%\n",
            "Completed 96%\n",
            "Completed 97%\n",
            "Completed 98%\n",
            "Completed 99%\n",
            "Completed 100%\n"
          ],
          "name": "stdout"
        }
      ]
    },
    {
      "cell_type": "markdown",
      "metadata": {
        "id": "rDjqbB-WfhRg"
      },
      "source": [
        "`generate_features()` will used and explored below."
      ]
    },
    {
      "cell_type": "code",
      "metadata": {
        "id": "FazdXtqJe1s-"
      },
      "source": [
        "# do not change the code in this cell\n",
        "def generate_features(sentences,window=1):\n",
        "    mydict={}\n",
        "    for sentence in sentences:\n",
        "        for i,token in enumerate(sentence):\n",
        "            current=mydict.get(token,{})\n",
        "            features=sentence[max(0,i-window):i]+sentence[i+1:i+window+1]\n",
        "            for feature in features:\n",
        "                current[feature]=current.get(feature,0)+1\n",
        "            mydict[token]=current\n",
        "    return mydict"
      ],
      "execution_count": null,
      "outputs": []
    },
    {
      "cell_type": "code",
      "metadata": {
        "id": "7YRWl7EjR9Vt"
      },
      "source": [
        "# preprocessing sentences: removing stopwords\n",
        "sentences = [filter_stopwords(sentence) for sentence in sentences]"
      ],
      "execution_count": null,
      "outputs": []
    },
    {
      "cell_type": "markdown",
      "metadata": {
        "id": "fLv0yZx7f4ol"
      },
      "source": [
        "a) Run `generate_features(sentences[:5])`. With reference to the code and the specific examples, explain how the output was generated [5 marks]"
      ]
    },
    {
      "cell_type": "code",
      "metadata": {
        "id": "3rnUZ_EogIW8",
        "colab": {
          "base_uri": "https://localhost:8080/"
        },
        "outputId": "88d3b490-6c57-456a-eaac-77987b060ff0"
      },
      "source": [
        "print(sentences[:5])\n",
        "generate_features(sentences[:5])"
      ],
      "execution_count": null,
      "outputs": [
        {
          "output_type": "stream",
          "text": [
            "[['current', 'transfers', 'NUM', 'NUM', 'NUM'], ['georgia', 'shevardnadze', 'seeks', 'investment'], ['georgia', 'lost', 'control', 'abkhazia', 'lush', 'subtropical', 'region', 'disorganised', 'military', 'driven', 'NUM', 'year', 'fighting', 'killed', 'people'], ['milwaukee', 'cty', 'NUM', 'mln', 'abn', 'amro'], ['another', 'dealer', 'said', 'issue', 'reoffered', 'NUM', 'basis', 'points', 'spread', 'testing', 'NUM']]\n"
          ],
          "name": "stdout"
        },
        {
          "output_type": "execute_result",
          "data": {
            "text/plain": [
              "{'NUM': {'NUM': 4,\n",
              "  'basis': 1,\n",
              "  'cty': 1,\n",
              "  'driven': 1,\n",
              "  'mln': 1,\n",
              "  'reoffered': 1,\n",
              "  'testing': 1,\n",
              "  'transfers': 1,\n",
              "  'year': 1},\n",
              " 'abkhazia': {'control': 1, 'lush': 1},\n",
              " 'abn': {'amro': 1, 'mln': 1},\n",
              " 'amro': {'abn': 1},\n",
              " 'another': {'dealer': 1},\n",
              " 'basis': {'NUM': 1, 'points': 1},\n",
              " 'control': {'abkhazia': 1, 'lost': 1},\n",
              " 'cty': {'NUM': 1, 'milwaukee': 1},\n",
              " 'current': {'transfers': 1},\n",
              " 'dealer': {'another': 1, 'said': 1},\n",
              " 'disorganised': {'military': 1, 'region': 1},\n",
              " 'driven': {'NUM': 1, 'military': 1},\n",
              " 'fighting': {'killed': 1, 'year': 1},\n",
              " 'georgia': {'lost': 1, 'shevardnadze': 1},\n",
              " 'investment': {'seeks': 1},\n",
              " 'issue': {'reoffered': 1, 'said': 1},\n",
              " 'killed': {'fighting': 1, 'people': 1},\n",
              " 'lost': {'control': 1, 'georgia': 1},\n",
              " 'lush': {'abkhazia': 1, 'subtropical': 1},\n",
              " 'military': {'disorganised': 1, 'driven': 1},\n",
              " 'milwaukee': {'cty': 1},\n",
              " 'mln': {'NUM': 1, 'abn': 1},\n",
              " 'people': {'killed': 1},\n",
              " 'points': {'basis': 1, 'spread': 1},\n",
              " 'region': {'disorganised': 1, 'subtropical': 1},\n",
              " 'reoffered': {'NUM': 1, 'issue': 1},\n",
              " 'said': {'dealer': 1, 'issue': 1},\n",
              " 'seeks': {'investment': 1, 'shevardnadze': 1},\n",
              " 'shevardnadze': {'georgia': 1, 'seeks': 1},\n",
              " 'spread': {'points': 1, 'testing': 1},\n",
              " 'subtropical': {'lush': 1, 'region': 1},\n",
              " 'testing': {'NUM': 1, 'spread': 1},\n",
              " 'transfers': {'NUM': 1, 'current': 1},\n",
              " 'year': {'NUM': 1, 'fighting': 1}}"
            ]
          },
          "metadata": {
            "tags": []
          },
          "execution_count": 19
        }
      ]
    },
    {
      "cell_type": "markdown",
      "metadata": {
        "id": "bqQWNeCmcOGq"
      },
      "source": [
        "**Answer**: The function 'generate_features' generates a distributional represenation of every word contained in the input sentences based on their frequencies. A distributional representations (also known as vector representation) based on frecuencies counts the number of occurences of all features that appear in the same context than the target word (i.e., the word corresponding to the actual distributional representation). How is this context defined? The context is specified by setting a context or size window. Basically, the size of the window defines the number of features to the right and left of the target word that will be added to its vector representation. For instance, in function 'generate_features', the window size is set by default to 1, which means that only the features that are besides the target word (to its left or right) will be part of its distributional representation. \n",
        "\n",
        "Now that the basic concepts have been presented, I will explain how the function works. First, it receives two parameters: 'sentences' and 'window'. 'sentences' simply refers to the sample sentences from which the vector representations will be build. On the other hand, 'window' referes to the window size. The distributional representations are generated using a nested dictionary ('mydict'), where each key is the target word, and each value is another dictionary ('current'). In the latter dictionary, each key is a feature that, in some of the input sentences, has appeared in the same context than the target word; and each value is the frecuency of each feature (i.e., how many times has that featured occured in the same context than the target word). \n",
        "\n",
        "With the first loop it is accessed the content of each sentence. In the nested loop, it is used 'enumerate' to assign to each token in the sentecen its corresponding index. The method 'get' is used to store an empty dictionary in the variable 'current' if the current token is not a key in 'mydict'(current=mydict.get(token,{})). This dictionary will be used as a dictionary to add the features that appear in the same context than the current token (key) along withn their frecuency (value). After that, all the features within the context windows are stored in the variable 'features'. How? Two lists of features are added; one corresponding to the features on the left of the target word (sentence[max(0,i-window):i]) and the other to the right (sentence[i+1:i+window+1]). Once the features in the window context are defined, it is looped through all the features to add them as keys in the dictionary of the target word (current token) and add one to their current frecuency (dictionary value). Again, method 'get' (current[feature]=current.get(feature,0)+1) is used to add one to the frecuency of those features that have appeared for the first time in the context of the target word. \n",
        "\n",
        "Finally, the current token is added as key to 'mydict' and it is assigned as value the dictionary of feature frecuencies ('current'). By doing this, the vector representation of each word is created and constantly updated any time it appears in a sentence. \n",
        "\n",
        "Let's use the word 'basis' to see how its distributional representation based on frecuncy ohas been generated. Given a context window equal to one, the features added to 'basis' will be either words that appear on its left or on its right. In the following example, features 'x' and 'y' are in the window size of 'basis':\n",
        "  \n",
        "  - sentence[n] = [...,'x', 'basis', 'y',...]\n",
        "\n",
        "Examining the first 5 sentences, it can be seen that the features that appear besides 'basis' are: 'NUM' and 'points'. Moreover, these features only appear once in the same context as 'basis'. Thus, the vector representation of this word is\n",
        "  - 'basis': {'NUM': 1, 'points': 1}\n",
        "\n",
        "which is the same vector representation that can be found when calling the function 'generate_features' with the input 'sentences[:5]'.\n"
      ]
    },
    {
      "cell_type": "markdown",
      "metadata": {
        "id": "nnfWmKkChEtG"
      },
      "source": [
        "b) Write code and **find** the 1000 most frequently occurring words that\n",
        "* are in your sample; AND\n",
        "* have at least one noun sense according to WordNet [5 marks]"
      ]
    },
    {
      "cell_type": "code",
      "metadata": {
        "id": "hWa2AHk3hSL0"
      },
      "source": [
        "def frequent_sense(sample, tag, k):\n",
        "  \"\"\"\n",
        "  given a sample, a tag and some number k, computes the k most\n",
        "  frequent words that have at least one noun sense\n",
        "  \"\"\"\n",
        "  pos = {'NOUN':wn.NOUN, 'ADV':wn.ADV, 'ADJ':wn.ADJ, 'VERB':wn.VERB}\n",
        "  freq_sense = []\n",
        "  for sentence in sample:\n",
        "    for word in sentence:\n",
        "      if wn.synsets(word, pos=pos[tag]):\n",
        "        freq_sense.append(word)\n",
        "\n",
        "  fdist = FreqDist(freq_sense)\n",
        "  \n",
        "  return fdist.most_common(k)"
      ],
      "execution_count": null,
      "outputs": []
    },
    {
      "cell_type": "code",
      "metadata": {
        "id": "Xc0p8B75-fh4"
      },
      "source": [
        "most_freq = frequent_sense(sentences, 'NOUN', 1000)\n",
        "# most_freq"
      ],
      "execution_count": null,
      "outputs": []
    },
    {
      "cell_type": "code",
      "metadata": {
        "id": "opO2PAMV4_uc",
        "colab": {
          "base_uri": "https://localhost:8080/"
        },
        "outputId": "a8ab00b6-a2ab-4c50-c1d9-082b360e65b2"
      },
      "source": [
        "# do not change the code in this cell.  It relates to part c)\n",
        "wordpair=(\"house\",\"garden\")\n",
        "concept_1=wn.synsets(wordpair[0])[0]\n",
        "concept_2=wn.synsets(wordpair[1])[0]\n",
        "print(\"Path similarity between 1st sense of {} and 1st sense of {} is {}\".format(wordpair[0],wordpair[1],wn.path_similarity(concept_1,concept_2)))\n",
        "print(\"Resnik similarity between 1st sense of {} and 1st sense of {} is {}\".format(wordpair[0],wordpair[1],wn.res_similarity(concept_1,concept_2, brown_ic)))\n",
        "print(\"Lin similarity between 1st sense of {} and 1st sense of {} is {}\".format(wordpair[0],wordpair[1],wn.lin_similarity(concept_1,concept_2, brown_ic)))"
      ],
      "execution_count": null,
      "outputs": [
        {
          "output_type": "stream",
          "text": [
            "Path similarity between 1st sense of house and 1st sense of garden is 0.08333333333333333\n",
            "Resnik similarity between 1st sense of house and 1st sense of garden is 1.2900256809649917\n",
            "Lin similarity between 1st sense of house and 1st sense of garden is 0.15380807721262396\n"
          ],
          "name": "stdout"
        }
      ]
    },
    {
      "cell_type": "markdown",
      "metadata": {
        "id": "ezzW3xqpszB2"
      },
      "source": [
        "c) \n",
        "i) The code above outputs the path similarity score, the Resnik similarity score and the Lin similarity score for a pair of concepts in WordNet.  Explain what each of these numbers means.\n",
        "\n",
        "ii) For every possible pair of words identified in Q2, determine the semantic similarity of the pair according to WordNet.  Make sure you justify your choice of semantic similarity measure and explain and justify the strategy used for words with multiple senses.\n",
        "\n",
        "iii) Identify the 10 most similar words (according to WordNet) to the most frequent word in the corpus [15 marks]"
      ]
    },
    {
      "cell_type": "markdown",
      "metadata": {
        "id": "hV9xSWlQc13J"
      },
      "source": [
        "**c)**\n",
        "\n",
        "**i)** \n",
        "\n",
        "**Path similarity**: $$sim_{path}(c_{1},c_{2}) = \\frac{1}{1 + pathlen(c_{1},c_{2})}$$\n",
        "\n",
        "Path length similarity is a semantic similarity measure based on the number of branches that separate two concepts in a hierarchical tree structure. The intuition behind this measure is that more similar concepts are closer in the hierarchy. As can be seen in the formula above, two concepts that are synonyms will have a path length similarity of 1, since both concepts are not separated by any branch; they are in the leaf. In this case, the path lenth  s equal to 0 and, therefore, the similarity is equal to 1. As two concepts are more distant from each other, their path len similarity decrease and tends to zero (the numerator is constant but the denominator gets bigger). The main disadvantage of this measure is that it only takes into account the length of the path that separates two concepts, but does not differentiate between the type or the height if the path in the hierarchy. Concepts separated by more different types of paths (e.g., path with only vertical direction) will be more dissimilar; and concepts higher in the hierarchy will also be more dissimilar since categories are broader and, thus, concepts will belong to more different categories than they do lower in the hierarchy. \n",
        "\n",
        "**Resnik Lin similarities**:\n",
        "\n",
        "$$sim_{res}(c_{1},c_{2}) = IC(LCS(c_{1},c_{2}))$$\n",
        "\n",
        "$$sim_{lin}(c_{1},c_{2}) = \\frac{2sim_{res}(c_{1},c_{2})}{IC(c_{1}) + IC(c_{2})}$$\n",
        "\n",
        "Both Resnik and Lin similarities are based on information content. Given two concepts, Resnik similarity measures the information content of their lowest common subsume. On the other hand, Lin similarity measures the ratio of the information they shared to the total information content (the sum of each information content). While Lin similarity overcomes the problems of path length similarity measured as mentioned above, Resnik still misrepresent the information content of two concepts in some cases. For instance, if two concepts have the same common least subsume, no matter how distant each of these two concepts is from their lowest common subsume, Resnik similarity will always return the same value. Why? Simply because Resnik similarity only computes information content of their lowest common subsumer; it is measuring an absolute value (can have values over 1), but not a relative one, as Lin does. On the contrary, Lin similarity computes the ratio, which does take into account how distant two concepts are from their lowest common subsumer (the is why the output values are always between 0 and 1). Therefore, I consider that using Lin similarity is the more optimal measure among these three."
      ]
    },
    {
      "cell_type": "code",
      "metadata": {
        "id": "Jrf80AMqvLXJ"
      },
      "source": [
        "# get a list of the words (leaving frequencies aside) from the 1000 most frequent words\n",
        "most_frequent_words = [word for word,freq in most_freq]"
      ],
      "execution_count": null,
      "outputs": []
    },
    {
      "cell_type": "code",
      "metadata": {
        "id": "uG65s-uDyNBK"
      },
      "source": [
        "def semantic_similarity(words, similarity='lin'):\n",
        "  \"\"\"\n",
        "  Computes the selected semantic similarity between all pairs in a list of words\n",
        "  \"\"\"\n",
        "  similarities = []\n",
        "  measures = {'path':wn.path_similarity, 'res':wn.res_similarity, 'lin':wn.lin_similarity}\n",
        "  # allowed part-of-speech taggers in the information content file 'brown_ic'\n",
        "  allowed_pos = ['n', 'v']\n",
        "  for i,word1 in enumerate(words):\n",
        "    for word2 in words[i + 1:]:  \n",
        "      concepts_1 = wn.synsets(word1)\n",
        "      concepts_2 = wn.synsets(word2)\n",
        "      synset_pairs = product(concepts_1, concepts_2)\n",
        "\n",
        "      if similarity == 'res' or similarity == 'lin':\n",
        "        simil = max([measures[similarity](synset1, synset2, brown_ic) for synset1,synset2 in synset_pairs\n",
        "                    if synset1.pos() == synset2.pos() and synset1.pos() in allowed_pos])\n",
        "        \n",
        "      else:\n",
        "        simil = max([measures[similarity](synset1, synset2) for synset1,synset2 in synset_pairs])\n",
        "\n",
        "      similarities.append((word1,word2,simil))\n",
        "\n",
        "  return similarities"
      ],
      "execution_count": null,
      "outputs": []
    },
    {
      "cell_type": "code",
      "metadata": {
        "id": "NtlQDKvP0wW4"
      },
      "source": [
        "# get the semantic similarities between all pairs of words from the \n",
        "# 1000 most frequent words\n",
        "sem_simil = semantic_similarity(most_frequent_words[:1000])"
      ],
      "execution_count": null,
      "outputs": []
    },
    {
      "cell_type": "code",
      "metadata": {
        "id": "j5DV45CP4g7q"
      },
      "source": [
        "def k_most_similar(similarities, most_frequent, k):\n",
        "  \"\"\"\n",
        "  Given a list of semantic similarities between pairs of words, computes the \n",
        "  k most similar words to the most frequent\n",
        "  \"\"\"\n",
        "  mydict = {}\n",
        "  simil = [(w2,sim) if w1 == most_frequent else (w1,sim) if w2 == most_frequent else ('',0) for (w1,w2,sim) in sem_simil]\n",
        "  sort_similarities = sorted(simil, key=lambda x: x[1], reverse=True)\n",
        "\n",
        "  return sort_similarities[:k]"
      ],
      "execution_count": null,
      "outputs": []
    },
    {
      "cell_type": "code",
      "metadata": {
        "colab": {
          "base_uri": "https://localhost:8080/"
        },
        "id": "SWufeOK2Az7L",
        "outputId": "d9d3456d-7f0f-480b-dd23-fdc86fcf6b72"
      },
      "source": [
        "# get the 10th most similar words from the 1000 most frequent words list\n",
        "# to the most frequent word \n",
        "most_similar = k_most_similar(sem_simil, most_frequent_words[0], 10)\n",
        "most_similar"
      ],
      "execution_count": null,
      "outputs": [
        {
          "output_type": "execute_result",
          "data": {
            "text/plain": [
              "[('pct', 1.0),\n",
              " ('percentage', 1.0),\n",
              " ('rate', 0.8713862139653964),\n",
              " ('rates', 0.8713862139653964),\n",
              " ('ratio', 0.864154123132271),\n",
              " ('average', 0.7688056689969761),\n",
              " ('c', 0.7157757549154073),\n",
              " ('pace', 0.6513567419934713),\n",
              " ('relations', 0.47473799276003187),\n",
              " ('part', 0.4543339945757353)]"
            ]
          },
          "metadata": {
            "tags": []
          },
          "execution_count": 169
        }
      ]
    },
    {
      "cell_type": "markdown",
      "metadata": {
        "id": "3BxDUsFkhSzD"
      },
      "source": [
        "d)\n",
        "i) Write code to construct distributional vector representations of words in the corpus with a parameter to specify context size.  Explain how you calculate the value of association between each word and each context feature.\n",
        "\n",
        "ii) Use your code to construct representations of the 1000 words identified in Q2 with a window size of 1 and thus determine the 10 words which are distributionally most similar to the most frequent word in the corpus. [10 marks]"
      ]
    },
    {
      "cell_type": "markdown",
      "metadata": {
        "id": "1MnBzzfhwDgD"
      },
      "source": [
        "**d)**\n",
        "\n",
        "**i)** Pointwise Mutual Information (PMI):\n",
        "\n",
        "There are two vector representations that can be built in this class. First, as explained above, the distributional representation based on frequencies is obtained by calling the function 'generate_features', which has been already explained. In addition, this vector representation based on frequencies can be converted to a vector representation based on the Pointwise Mutual Information (PMI). For each target word, it computes the PMI for each feature that appeared in its context window. The following formula computes the PMI:\n",
        "\n",
        "$$I(w,f) = log\\frac{freq(f,w)freq(*,*)}{freq(f,*)freq(*,w)}$$\n",
        "\n",
        "The intuition behind PMI is that for every pair of word and feature, if the feature co-occurs with the target word more than if they co-occured independently, then this feature is considered to be more informative about the target wor; that feature should be considered to play a relevant role in fixing the meaning of the target word. "
      ]
    },
    {
      "cell_type": "code",
      "metadata": {
        "id": "k5mZKdJdrY4Q"
      },
      "source": [
        "class word_vectors:\n",
        "    \"\"\"\n",
        "    class that creates vector representations\n",
        "    \"\"\"\n",
        "    def __init__(self,sentences,window=1):\n",
        "      \"\"\"\n",
        "      initialize the class\n",
        "      \"\"\"\n",
        "      self.sentences=sentences\n",
        "      self.window=window\n",
        "      self.reps={}\n",
        "      self.wordtotals={}\n",
        "      self.feattotals={}\n",
        "      self.generate_features()\n",
        "      self.grandtotal=sum(self.wordtotals.values())\n",
        "      self.convert_to_ppmi()\n",
        "    \n",
        "    def generate_features(self):\n",
        "      \"\"\"\n",
        "      get vector representations of the words based on frecuency\n",
        "      \"\"\"\n",
        "      for sentence in self.sentences:\n",
        "          for i,token in enumerate(sentence):\n",
        "              current=self.reps.get(token,{})\n",
        "              features=sentence[max(0,i-self.window):i]+sentence[i+1:i+self.window+1]\n",
        "              for feature in features:\n",
        "                  current[feature]=current.get(feature,0)+1\n",
        "                  self.feattotals[feature]=self.feattotals.get(feature,0)+1\n",
        "              self.wordtotals[token]=self.wordtotals.get(token,0)+len(features)\n",
        "              self.reps[token]=current\n",
        "\n",
        "    def convert_to_ppmi(self):\n",
        "      \"\"\"\n",
        "      convert frecuencies of vector representation to PMI\n",
        "      \"\"\"\n",
        "      self.ppmi={word:{feat:max(0,math.log((freq*self.grandtotal)/(self.wordtotals[word]*self.feattotals[feat]),2)) for (feat,freq) in rep.items()} for (word,rep) in self.reps.items()}\n",
        "    \n",
        "    def similarity(self,word1,word2):\n",
        "      \"\"\"\n",
        "      computes the cosine similarity betweeen two words\n",
        "      \"\"\"\n",
        "      rep1=self.ppmi.get(word1,{})\n",
        "      rep2=self.ppmi.get(word2,{})\n",
        "      return self.dot(rep1,rep2)/math.sqrt(self.dot(rep1,rep1)*self.dot(rep2,rep2))\n",
        "            \n",
        "    def dot(self,vecA,vecB):\n",
        "      \"\"\"\n",
        "      computes the dot product between two vectors\n",
        "      \"\"\"\n",
        "      the_sum=0\n",
        "      for (key,value) in vecA.items():\n",
        "          the_sum+=value*vecB.get(key,0)\n",
        "      return the_sum\n"
      ],
      "execution_count": null,
      "outputs": []
    },
    {
      "cell_type": "code",
      "metadata": {
        "id": "hImj-17sxihF"
      },
      "source": [
        "# create an object from the 'word_vectors' class\n",
        "vector = word_vectors(sentences, window=)\n",
        "# create the distributional representation based on ppmi of all words\n",
        "vector.convert_to_ppmi()\n",
        "# vector representation based on PMI for 1000 most frequent words\n",
        "vector_representations = {word:vector.ppmi[word] for word in most_frequent_words}"
      ],
      "execution_count": null,
      "outputs": []
    },
    {
      "cell_type": "code",
      "metadata": {
        "colab": {
          "base_uri": "https://localhost:8080/"
        },
        "id": "o76I5eGrQ2nI",
        "outputId": "a12293b1-c3a8-493f-8ed6-b895d3546784"
      },
      "source": [
        "# get the 10 most frequent words based on cosine similarity\n",
        "cosine_similarities = {word:vector.similarity(word,most_frequent_words[0]) for word in most_frequent_words if word != most_frequent_words[0]}\n",
        "most_similar_distributional = list({k:v for k,v in sorted(cosine_similarities.items(), key=lambda x: x[1], reverse=True)}.items())[:10]\n",
        "most_similar_distributional"
      ],
      "execution_count": null,
      "outputs": [
        {
          "output_type": "execute_result",
          "data": {
            "text/plain": [
              "[('percentage', 0.08258467903612886),\n",
              " ('rate', 0.07961606469072298),\n",
              " ('quarter', 0.07408251358117644),\n",
              " ('points', 0.0695870455501911),\n",
              " ('forecast', 0.06615971718646925),\n",
              " ('month', 0.06494788143936768),\n",
              " ('five', 0.0638914313574388),\n",
              " ('february', 0.06189562289529086),\n",
              " ('half', 0.06162277391992023),\n",
              " ('average', 0.06137568801136862)]"
            ]
          },
          "metadata": {
            "tags": []
          },
          "execution_count": 213
        }
      ]
    },
    {
      "cell_type": "code",
      "metadata": {
        "id": "3eOW_Lx-FHGn"
      },
      "source": [
        "def most_similar_cosine(sentences, words, window):\n",
        "  \"\"\"\n",
        "  computes the cosine similarity between every pair of words in some sentences\n",
        "  given some context window\n",
        "  \"\"\"\n",
        "  vector = word_vectors(sentences, window)\n",
        "\n",
        "  similarities = []\n",
        "  for i,word1 in enumerate(words):\n",
        "    for word2 in words[i + 1:]:  \n",
        "      similarities.append((word1,word2,vector.similarity(word1,word2)))\n",
        "  \n",
        "  return similarities"
      ],
      "execution_count": null,
      "outputs": []
    },
    {
      "cell_type": "markdown",
      "metadata": {
        "id": "Uo009tKWrZoB"
      },
      "source": [
        "e) Plan and carry out an investigation into the correlation between semantic similarity according to WordNet and distributional similarity with different context window sizes. You should make sure that you include a graph of how correlation varies with context window size and that you discuss your results. [15 marks]"
      ]
    },
    {
      "cell_type": "markdown",
      "metadata": {
        "id": "irg3ohsSGIyo"
      },
      "source": [
        "**Experiment:** Given the list of the 1000 most frequent words in the sampe of sentences given, I will compute the Lin similarity between every pair of words and, in the same way, I will also compute the cosine similarity for the same pair of words given different window sizes. By doing that, I expect to find what is the impact of the window size in the cosine similarity, and how these two similarity measures are correlated.\n",
        "\n",
        "In order to measure the correlation between both similarity measures, I will use Spearman correlation because their relation might not be linear; that is, the rate of change of the correlation between both measures might not always be the same. Thus, as Spearman’s correlation evaluates the monotonic relation between two variables that usually vary together, and it is expected that the similarities for each measure will tend to vary together, I believe it is the right correlation measure to use. "
      ]
    },
    {
      "cell_type": "code",
      "metadata": {
        "id": "JBymlTzsviaj"
      },
      "source": [
        "def test_similarity(sentences, window_sizes):\n",
        "  \"\"\"\n",
        "  given some sentences and a list of window sizes, computes the semantic\n",
        "  similarity for every pair of words in the sentences using 'Lin' similarity\n",
        "  and cosine similarity\n",
        "  \"\"\"\n",
        "  most_frequent = frequent_sense(sentences, 'NOUN', 1000)\n",
        "  most_frequent_words = [word for word,freq in most_frequent]\n",
        "\n",
        "  ms_wordnet = semantic_similarity(most_frequent_words)\n",
        "\n",
        "  ms_cosine = [most_similar_cosine(sentences, most_frequent_words, window) for window in window_sizes]\n",
        "\n",
        "  return ms_wordnet, ms_cosine"
      ],
      "execution_count": null,
      "outputs": []
    },
    {
      "cell_type": "code",
      "metadata": {
        "id": "wvhoFo8YZNfF"
      },
      "source": [
        "# compute lin and cosine similarities for all pairs using different window size\n",
        "window_sizes = list(range(1,6,1))\n",
        "simil_wn, simil_cos = test_similarity(sentences, window_sizes)"
      ],
      "execution_count": null,
      "outputs": []
    },
    {
      "cell_type": "code",
      "metadata": {
        "id": "J4cNJXD2UQAW"
      },
      "source": [
        "# copy the similarity value onto two similarity lists\n",
        "similarity_measure_1 = [sim for (w1,w2,sim) in simil_wn]\n",
        "similarity_measure_2 = [[sim for (w1,w2,sim) in simil] for simil in simil_cos] "
      ],
      "execution_count": null,
      "outputs": []
    },
    {
      "cell_type": "code",
      "metadata": {
        "colab": {
          "base_uri": "https://localhost:8080/"
        },
        "id": "lzTsfRlagKyQ",
        "outputId": "2eb0a99e-acad-4915-c629-28951852c3a0"
      },
      "source": [
        "# compute Spearman correlations between wordnet and cosine similarity according to each \n",
        "# window size\n",
        "correlations = [spearmanr(similarity_measure_1, sim2)[0] for sim2 in similarity_measure_2]\n",
        "print(correlations)"
      ],
      "execution_count": null,
      "outputs": [
        {
          "output_type": "stream",
          "text": [
            "[0.1948859844621036, 0.19829928294581897, 0.19673414399244338, 0.19309968848578804, 0.19020589982675368]\n"
          ],
          "name": "stdout"
        }
      ]
    },
    {
      "cell_type": "code",
      "metadata": {
        "colab": {
          "base_uri": "https://localhost:8080/",
          "height": 1000
        },
        "id": "HbJg6U-bnllh",
        "outputId": "3c2dce7c-808a-4af0-deac-6f53d59e1701"
      },
      "source": [
        "fig = plt.figure()\n",
        "fig.set_figheight(10)\n",
        "fig.set_figwidth(10)\n",
        "columns = 2\n",
        "rows = 3\n",
        "\n",
        "for i in range(1, columns*rows+1):\n",
        "  if i > len(similarity_measure_2):\n",
        "    break\n",
        "  else:\n",
        "    fig.add_subplot(rows, columns, i)\n",
        "    plt.scatter(similarity_measure_1, similarity_measure_2[i - 1])\n",
        "    plt.title('Correlation between cosine and Lin similarities with window = ' + str(i))\n",
        "    plt.xlabel('Lin similarity')\n",
        "    plt.ylabel('Cosine similarity')\n",
        "    plt.tight_layout()\n",
        "    plt.show()"
      ],
      "execution_count": null,
      "outputs": [
        {
          "output_type": "display_data",
          "data": {
            "image/png": "[encoded data removed]",
            "text/plain": [
              "<Figure size 720x720 with 1 Axes>"
            ]
          },
          "metadata": {
            "tags": [],
            "needs_background": "light"
          }
        },
        {
          "output_type": "display_data",
          "data": {
            "image/png": "[encoded data removed]",
            "text/plain": [
              "<Figure size 432x288 with 1 Axes>"
            ]
          },
          "metadata": {
            "tags": [],
            "needs_background": "light"
          }
        },
        {
          "output_type": "display_data",
          "data": {
            "image/png": "[encoded data removed]",
            "text/plain": [
              "<Figure size 432x288 with 1 Axes>"
            ]
          },
          "metadata": {
            "tags": [],
            "needs_background": "light"
          }
        },
        {
          "output_type": "display_data",
          "data": {
            "image/png": "[encoded data removed]",
            "text/plain": [
              "<Figure size 432x288 with 1 Axes>"
            ]
          },
          "metadata": {
            "tags": [],
            "needs_background": "light"
          }
        },
        {
          "output_type": "display_data",
          "data": {
            "image/png": "[encoded data removed]",
            "text/plain": [
              "<Figure size 432x288 with 1 Axes>"
            ]
          },
          "metadata": {
            "tags": [],
            "needs_background": "light"
          }
        }
      ]
    },
    {
      "cell_type": "markdown",
      "metadata": {
        "id": "BSbw1LD4JfOh"
      },
      "source": [
        "**Discussion:** As can be seen, no matter the window size chosen (at least from 1 to 5), the correaltion between Lin and cosine similarity is almost the same (remains constant). In particular, although there are changes along the Lin similarity values (x-axis), the cosine similarty remains rather low (in general below, aprozimately, 0.3)."
      ]
    },
    {
      "cell_type": "code",
      "metadata": {
        "colab": {
          "base_uri": "https://localhost:8080/",
          "height": 476
        },
        "id": "HnRUtn_Zbe-u",
        "outputId": "41cc2347-8a87-4e85-ad60-cae67628909e"
      },
      "source": [
        "cols = [\"Window size\", \"Spearman's correlation\"]\n",
        "\n",
        "df = pd.DataFrame(list(zip(window_sizes, correlations)),columns = cols)\n",
        "display(df)\n",
        "\n",
        "ax = df.plot(kind='line',x=cols[0],y=cols[1],\n",
        "               title=\"Spearman correlation between Lin and cosine similarity for different window sizes\")\n",
        "# set xticks\n",
        "ax.set_xticks(window_sizes)\n",
        "# set the y-axis label\n",
        "ax.set_ylabel(\"value\")\n",
        "# set legend\n",
        "ax.legend(loc='best')\n",
        "plt.show()"
      ],
      "execution_count": null,
      "outputs": [
        {
          "output_type": "display_data",
          "data": {
            "text/html": [
              "<div>\n",
              "<style scoped>\n",
              "    .dataframe tbody tr th:only-of-type {\n",
              "        vertical-align: middle;\n",
              "    }\n",
              "\n",
              "    .dataframe tbody tr th {\n",
              "        vertical-align: top;\n",
              "    }\n",
              "\n",
              "    .dataframe thead th {\n",
              "        text-align: right;\n",
              "    }\n",
              "</style>\n",
              "<table border=\"1\" class=\"dataframe\">\n",
              "  <thead>\n",
              "    <tr style=\"text-align: right;\">\n",
              "      <th></th>\n",
              "      <th>Window size</th>\n",
              "      <th>Spearman's correlation</th>\n",
              "    </tr>\n",
              "  </thead>\n",
              "  <tbody>\n",
              "    <tr>\n",
              "      <th>0</th>\n",
              "      <td>1</td>\n",
              "      <td>0.194886</td>\n",
              "    </tr>\n",
              "    <tr>\n",
              "      <th>1</th>\n",
              "      <td>2</td>\n",
              "      <td>0.198299</td>\n",
              "    </tr>\n",
              "    <tr>\n",
              "      <th>2</th>\n",
              "      <td>3</td>\n",
              "      <td>0.196734</td>\n",
              "    </tr>\n",
              "    <tr>\n",
              "      <th>3</th>\n",
              "      <td>4</td>\n",
              "      <td>0.193100</td>\n",
              "    </tr>\n",
              "    <tr>\n",
              "      <th>4</th>\n",
              "      <td>5</td>\n",
              "      <td>0.190206</td>\n",
              "    </tr>\n",
              "  </tbody>\n",
              "</table>\n",
              "</div>"
            ],
            "text/plain": [
              "   Window size  Spearman's correlation\n",
              "0            1                0.194886\n",
              "1            2                0.198299\n",
              "2            3                0.196734\n",
              "3            4                0.193100\n",
              "4            5                0.190206"
            ]
          },
          "metadata": {
            "tags": []
          }
        },
        {
          "output_type": "display_data",
          "data": {
            "image/png": "[encoded data removed]",
            "text/plain": [
              "<Figure size 432x288 with 1 Axes>"
            ]
          },
          "metadata": {
            "tags": [],
            "needs_background": "light"
          }
        }
      ]
    },
    {
      "cell_type": "markdown",
      "metadata": {
        "id": "jTq23PMbKGcq"
      },
      "source": [
        "**Discussion:** Consistently with the previous scatter plots, Spearman's correlation has very similar values for each widow size chosen. Thus, it shows that cosine similarity is almost the same in the window size range from 1 to 5. It could be interesting to see whether cosine similarity might vary if the window size is set to a larger number. The main reason why I din not test that is due to computational costs. Running the 'test_similarity' function for the window sizes shown above (1-5) took around 10 minutes. Setting a higher window size implies that more distant features will be part of the vector representation of the target word. So, it crucial to investigate whether relevant features of a word can, on average, occur in distant positions from it. "
      ]
    },
    {
      "cell_type": "code",
      "metadata": {
        "colab": {
          "base_uri": "https://localhost:8080/"
        },
        "id": "34rdlS_iPov6",
        "outputId": "e8a6ad9b-f204-4682-b6e0-0a61add175be"
      },
      "source": [
        "##This code will word count all of the markdown cells in the notebook saved at filepath\n",
        "##Running it before providing any answers shows that the questions have a word count of 388\n",
        "\n",
        "import io\n",
        "from nbformat import current\n",
        "\n",
        "filepath=\"/content/drive/My Drive/Sussex AI/Applied NLP/1st Assignment/ANLPassignment.ipynb\"\n",
        "question_count=754\n",
        "\n",
        "with io.open(filepath, 'r', encoding='utf-8') as f:\n",
        "    nb = current.read(f, 'json')\n",
        "\n",
        "word_count = 0\n",
        "for cell in nb.worksheets[0].cells:\n",
        "    if cell.cell_type == \"markdown\":\n",
        "      word_count += len(cell['source'].replace('#', '').lstrip().split(' '))\n",
        "print(\"Submission length is {}\".format(word_count-question_count))"
      ],
      "execution_count": null,
      "outputs": [
        {
          "output_type": "stream",
          "text": [
            "Submission length is 2538\n"
          ],
          "name": "stdout"
        }
      ]
    }
  ]
}